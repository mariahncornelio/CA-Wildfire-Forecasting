{
 "cells": [
  {
   "cell_type": "markdown",
   "id": "6faa5a9e",
   "metadata": {},
   "source": [
    "# **California Wildfire Prediction - Tabular Project**\n",
    "## Mariah Noelle Cornelio"
   ]
  },
  {
   "cell_type": "markdown",
   "id": "a633ffba",
   "metadata": {},
   "source": [
    "# ***MACHINE LEARNING***"
   ]
  },
  {
   "cell_type": "markdown",
   "id": "be4583b0",
   "metadata": {},
   "source": [
    "### **GENERAL WORKFLOW OF THE NOTEBOOK -> 4 steps**\n",
    "- Train models using a **21 day window**\n",
    "    - Validate and evaluate validation set\n",
    "    - Fine tune using a threshold that balances recall and F1 while prioritizing recall\n",
    "        - Recall > F1 > Precision and ROC-AUC\n",
    "    - Validate again \n",
    "    - Use on test set and evaluate\n",
    "    - **Note:** Random Forest and XGBoost do not need windows -> 2D Input\n",
    "- Do the same process for GRU, Bidirectional LSTM, Stacked LSTM, CNN+LSTM, Transformer, Random Forest, XGBoost\n",
    "- Choose the best **time series** model\n",
    "    - I just trained Random Forest and XGBoost to see if it would perform better (it did)\n",
    "- Build fire forecast prototype tool"
   ]
  },
  {
   "cell_type": "markdown",
   "id": "e41143cd",
   "metadata": {},
   "source": [
    "## **Problem Formulation**"
   ]
  },
  {
   "cell_type": "markdown",
   "id": "08180fe6",
   "metadata": {},
   "source": [
    "**Import packages and CLEANED data from Feasibility notebook**"
   ]
  },
  {
   "cell_type": "code",
   "execution_count": 1,
   "id": "32e0c98e",
   "metadata": {},
   "outputs": [],
   "source": [
    "# Pre-processing and basics\n",
    "import pandas as pd\n",
    "import numpy as np\n",
    "import matplotlib.pyplot as plt\n",
    "import random\n",
    "import seaborn as sns # For easy correlation plot\n",
    "from sklearn.preprocessing import OrdinalEncoder\n",
    "from sklearn.model_selection import train_test_split\n",
    "from sklearn.preprocessing import StandardScaler, MinMaxScaler\n",
    "from sklearn.metrics import recall_score, precision_score, f1_score, roc_auc_score, roc_curve, auc\n",
    "\n",
    "# Models\n",
    "import tensorflow as tf\n",
    "from tensorflow.keras.models import Sequential\n",
    "from sklearn.utils import class_weight\n",
    "from sklearn.metrics import classification_report, roc_auc_score, confusion_matrix\n",
    "from tensorflow.keras.metrics import Recall, AUC\n",
    "from tensorflow.keras.callbacks import EarlyStopping\n",
    "from tensorflow.keras.layers import Layer, Input, GlobalAveragePooling1D\n",
    "from tensorflow.keras.models import Model\n",
    "from tensorflow.keras.layers import LayerNormalization, MultiHeadAttention\n",
    "from tensorflow.keras.layers import GRU, Dropout, Dense, Bidirectional, LSTM, Conv1D, MaxPooling1D\n",
    "from sklearn.ensemble import RandomForestClassifier\n",
    "from sklearn.linear_model import LogisticRegression\n",
    "from sklearn.tree import DecisionTreeClassifier\n",
    "import xgboost as xgb"
   ]
  },
  {
   "cell_type": "code",
   "execution_count": 2,
   "id": "891b0808",
   "metadata": {},
   "outputs": [
    {
     "data": {
      "text/html": [
       "<div>\n",
       "<style scoped>\n",
       "    .dataframe tbody tr th:only-of-type {\n",
       "        vertical-align: middle;\n",
       "    }\n",
       "\n",
       "    .dataframe tbody tr th {\n",
       "        vertical-align: top;\n",
       "    }\n",
       "\n",
       "    .dataframe thead th {\n",
       "        text-align: right;\n",
       "    }\n",
       "</style>\n",
       "<table border=\"1\" class=\"dataframe\">\n",
       "  <thead>\n",
       "    <tr style=\"text-align: right;\">\n",
       "      <th></th>\n",
       "      <th>PRECIPITATION</th>\n",
       "      <th>MAX_TEMP</th>\n",
       "      <th>MIN_TEMP</th>\n",
       "      <th>AVG_WIND_SPEED</th>\n",
       "      <th>YEAR</th>\n",
       "      <th>TEMP_RANGE</th>\n",
       "      <th>LAGGED_PRECIPITATION</th>\n",
       "      <th>LAGGED_AVG_WIND_SPEED</th>\n",
       "      <th>SEASON_SIN</th>\n",
       "      <th>SEASON_COS</th>\n",
       "      <th>DAY_SIN</th>\n",
       "      <th>DAY_COS</th>\n",
       "      <th>FIRE_START_DAY</th>\n",
       "    </tr>\n",
       "  </thead>\n",
       "  <tbody>\n",
       "    <tr>\n",
       "      <th>0</th>\n",
       "      <td>0.0</td>\n",
       "      <td>0.517857</td>\n",
       "      <td>0.409091</td>\n",
       "      <td>0.119360</td>\n",
       "      <td>0.0</td>\n",
       "      <td>0.666667</td>\n",
       "      <td>0.0</td>\n",
       "      <td>0.137577</td>\n",
       "      <td>0.0</td>\n",
       "      <td>1.0</td>\n",
       "      <td>0.017166</td>\n",
       "      <td>0.999853</td>\n",
       "      <td>0</td>\n",
       "    </tr>\n",
       "    <tr>\n",
       "      <th>1</th>\n",
       "      <td>0.0</td>\n",
       "      <td>0.375000</td>\n",
       "      <td>0.295455</td>\n",
       "      <td>0.155865</td>\n",
       "      <td>0.0</td>\n",
       "      <td>0.589744</td>\n",
       "      <td>0.0</td>\n",
       "      <td>0.179143</td>\n",
       "      <td>0.0</td>\n",
       "      <td>1.0</td>\n",
       "      <td>0.034328</td>\n",
       "      <td>0.999411</td>\n",
       "      <td>0</td>\n",
       "    </tr>\n",
       "    <tr>\n",
       "      <th>2</th>\n",
       "      <td>0.0</td>\n",
       "      <td>0.357143</td>\n",
       "      <td>0.318182</td>\n",
       "      <td>0.146842</td>\n",
       "      <td>0.0</td>\n",
       "      <td>0.538462</td>\n",
       "      <td>0.0</td>\n",
       "      <td>0.186149</td>\n",
       "      <td>0.0</td>\n",
       "      <td>1.0</td>\n",
       "      <td>0.051479</td>\n",
       "      <td>0.998674</td>\n",
       "      <td>0</td>\n",
       "    </tr>\n",
       "    <tr>\n",
       "      <th>3</th>\n",
       "      <td>0.0</td>\n",
       "      <td>0.464286</td>\n",
       "      <td>0.272727</td>\n",
       "      <td>0.119360</td>\n",
       "      <td>0.0</td>\n",
       "      <td>0.743590</td>\n",
       "      <td>0.0</td>\n",
       "      <td>0.174006</td>\n",
       "      <td>0.0</td>\n",
       "      <td>1.0</td>\n",
       "      <td>0.068615</td>\n",
       "      <td>0.997643</td>\n",
       "      <td>0</td>\n",
       "    </tr>\n",
       "    <tr>\n",
       "      <th>4</th>\n",
       "      <td>0.0</td>\n",
       "      <td>0.428571</td>\n",
       "      <td>0.363636</td>\n",
       "      <td>0.137408</td>\n",
       "      <td>0.0</td>\n",
       "      <td>0.589744</td>\n",
       "      <td>0.0</td>\n",
       "      <td>0.174940</td>\n",
       "      <td>0.0</td>\n",
       "      <td>1.0</td>\n",
       "      <td>0.085731</td>\n",
       "      <td>0.996318</td>\n",
       "      <td>0</td>\n",
       "    </tr>\n",
       "  </tbody>\n",
       "</table>\n",
       "</div>"
      ],
      "text/plain": [
       "   PRECIPITATION  MAX_TEMP  MIN_TEMP  AVG_WIND_SPEED  YEAR  TEMP_RANGE  \\\n",
       "0            0.0  0.517857  0.409091        0.119360   0.0    0.666667   \n",
       "1            0.0  0.375000  0.295455        0.155865   0.0    0.589744   \n",
       "2            0.0  0.357143  0.318182        0.146842   0.0    0.538462   \n",
       "3            0.0  0.464286  0.272727        0.119360   0.0    0.743590   \n",
       "4            0.0  0.428571  0.363636        0.137408   0.0    0.589744   \n",
       "\n",
       "   LAGGED_PRECIPITATION  LAGGED_AVG_WIND_SPEED  SEASON_SIN  SEASON_COS  \\\n",
       "0                   0.0               0.137577         0.0         1.0   \n",
       "1                   0.0               0.179143         0.0         1.0   \n",
       "2                   0.0               0.186149         0.0         1.0   \n",
       "3                   0.0               0.174006         0.0         1.0   \n",
       "4                   0.0               0.174940         0.0         1.0   \n",
       "\n",
       "    DAY_SIN   DAY_COS  FIRE_START_DAY  \n",
       "0  0.017166  0.999853               0  \n",
       "1  0.034328  0.999411               0  \n",
       "2  0.051479  0.998674               0  \n",
       "3  0.068615  0.997643               0  \n",
       "4  0.085731  0.996318               0  "
      ]
     },
     "execution_count": 2,
     "metadata": {},
     "output_type": "execute_result"
    }
   ],
   "source": [
    "df = pd.read_csv(\"/Users/marielle/Desktop/firedf_cleaned.csv\")\n",
    "df.head(5)"
   ]
  },
  {
   "cell_type": "markdown",
   "id": "453202cf",
   "metadata": {},
   "source": [
    "**Remove unneed columns, for example:**\n",
    "- **duplicated**\n",
    "- **categorical features that were turned into one-hot -> done in pre-processing**\n",
    "- **features that identify specific rows, like ID number -> done in pre-processing**\n",
    "- **make sure your target is properly encoded also -> done in pre-processing**"
   ]
  },
  {
   "cell_type": "code",
   "execution_count": 3,
   "id": "2d4bf8d0",
   "metadata": {},
   "outputs": [
    {
     "name": "stdout",
     "output_type": "stream",
     "text": [
      "Duplicate rows: 0\n"
     ]
    }
   ],
   "source": [
    "# Check duplicates\n",
    "print(f\"Duplicate rows: {df.duplicated().sum()}\")"
   ]
  },
  {
   "cell_type": "code",
   "execution_count": 4,
   "id": "bcc2f97d",
   "metadata": {},
   "outputs": [
    {
     "name": "stdout",
     "output_type": "stream",
     "text": [
      "0    10017\n",
      "1     4971\n",
      "Name: FIRE_START_DAY, dtype: int64\n"
     ]
    }
   ],
   "source": [
    "# Check class distribution before creating windows for model\n",
    "print(df['FIRE_START_DAY'].value_counts())"
   ]
  },
  {
   "cell_type": "markdown",
   "id": "b5d46a63",
   "metadata": {},
   "source": [
    "## **Train ML Algorithm: LSTM (USING A 21 DAY WINDOW)**"
   ]
  },
  {
   "cell_type": "markdown",
   "id": "38e36a78",
   "metadata": {},
   "source": [
    "**NOTE:** In the Project Rough Draft notebook, we already trained our rough LSTM model and found that from choicese of a 30-day, 21-day, and 14-day sliding window, the model was able to perform the best and identify fires within a 21 day timeframe. Metrics used to evaluate that was an ROC-AUC curve. \n",
    "- 30 DAY Validation ROC-AUC Score: 0.8288\n",
    "- 21 DAY Validation ROC-AUC Score: 0.8273\n",
    "- 14 DAY Validation ROC-AUC Score: 0.8262"
   ]
  },
  {
   "cell_type": "markdown",
   "id": "4e9cb9ae",
   "metadata": {},
   "source": [
    "**Extracting Features and Creating Sliding Window for LSTM**"
   ]
  },
  {
   "cell_type": "code",
   "execution_count": 5,
   "id": "d123b935",
   "metadata": {},
   "outputs": [
    {
     "name": "stdout",
     "output_type": "stream",
     "text": [
      "Total samples: 14967, Sequence length: 21, Features per timestep: 12\n"
     ]
    }
   ],
   "source": [
    "# Features to use in our model\n",
    "feature_cols = ['PRECIPITATION', 'MAX_TEMP', 'MIN_TEMP', 'AVG_WIND_SPEED', 'TEMP_RANGE',\n",
    "                'LAGGED_PRECIPITATION', 'LAGGED_AVG_WIND_SPEED', 'YEAR', 'SEASON_SIN', \n",
    "                'SEASON_COS', 'DAY_SIN', 'DAY_COS']\n",
    "\n",
    "target_col = 'FIRE_START_DAY'\n",
    "\n",
    "# Extract the features\n",
    "features = df[feature_cols].values\n",
    "target = df[target_col].values\n",
    "\n",
    "# Setting window size to 21 days before an event\n",
    "window_size = 21\n",
    "\n",
    "# Sliding window function\n",
    "def create_sequences(features, labels, window=window_size):\n",
    "    X, y = [], []\n",
    "    for i in range(len(features) - window):\n",
    "        X.append(features[i:i+window])\n",
    "        y.append(labels[i+window])  # target on day 22\n",
    "    return np.array(X), np.array(y)\n",
    "\n",
    "# Create sequences from the dataset\n",
    "X, y = create_sequences(features, target, window=window_size)\n",
    "\n",
    "print(f\"Total samples: {X.shape[0]}, Sequence length: {X.shape[1]}, Features per timestep: {X.shape[2]}\")"
   ]
  },
  {
   "cell_type": "markdown",
   "id": "31c3a5e6",
   "metadata": {},
   "source": [
    "**Split training sample into train, validation, and test sub-samples**"
   ]
  },
  {
   "cell_type": "code",
   "execution_count": 6,
   "id": "218f264f",
   "metadata": {},
   "outputs": [
    {
     "name": "stdout",
     "output_type": "stream",
     "text": [
      "Train samples: 10476\n",
      "Validation samples: 2245\n",
      "Test samples: 2246\n"
     ]
    }
   ],
   "source": [
    "# Split into train (70%), validation (15%), test (15%)\n",
    "num_samples = len(X)\n",
    "train_end = int(0.7 * num_samples)\n",
    "val_end = int(0.85 * num_samples)\n",
    "\n",
    "X_train, y_train = X[:train_end], y[:train_end]\n",
    "X_val, y_val = X[train_end:val_end], y[train_end:val_end]\n",
    "X_test, y_test = X[val_end:], y[val_end:]\n",
    "\n",
    "print(f\"Train samples: {X_train.shape[0]}\")\n",
    "print(f\"Validation samples: {X_val.shape[0]}\")\n",
    "print(f\"Test samples: {X_test.shape[0]}\")"
   ]
  },
  {
   "cell_type": "markdown",
   "id": "62f21b0c",
   "metadata": {},
   "source": [
    "**Build the LSTM Model (with Balanced Class Weights)**"
   ]
  },
  {
   "cell_type": "code",
   "execution_count": 47,
   "id": "e60c06e9",
   "metadata": {},
   "outputs": [
    {
     "name": "stderr",
     "output_type": "stream",
     "text": [
      "/Users/marielle/anaconda3/lib/python3.11/site-packages/keras/src/layers/rnn/rnn.py:204: UserWarning: Do not pass an `input_shape`/`input_dim` argument to a layer. When using Sequential models, prefer using an `Input(shape)` object as the first layer in the model instead.\n",
      "  super().__init__(**kwargs)\n"
     ]
    },
    {
     "data": {
      "text/html": [
       "<pre style=\"white-space:pre;overflow-x:auto;line-height:normal;font-family:Menlo,'DejaVu Sans Mono',consolas,'Courier New',monospace\"><span style=\"font-weight: bold\">Model: \"sequential_7\"</span>\n",
       "</pre>\n"
      ],
      "text/plain": [
       "\u001b[1mModel: \"sequential_7\"\u001b[0m\n"
      ]
     },
     "metadata": {},
     "output_type": "display_data"
    },
    {
     "data": {
      "text/html": [
       "<pre style=\"white-space:pre;overflow-x:auto;line-height:normal;font-family:Menlo,'DejaVu Sans Mono',consolas,'Courier New',monospace\">┏━━━━━━━━━━━━━━━━━━━━━━━━━━━━━━━━━┳━━━━━━━━━━━━━━━━━━━━━━━━┳━━━━━━━━━━━━━━━┓\n",
       "┃<span style=\"font-weight: bold\"> Layer (type)                    </span>┃<span style=\"font-weight: bold\"> Output Shape           </span>┃<span style=\"font-weight: bold\">       Param # </span>┃\n",
       "┡━━━━━━━━━━━━━━━━━━━━━━━━━━━━━━━━━╇━━━━━━━━━━━━━━━━━━━━━━━━╇━━━━━━━━━━━━━━━┩\n",
       "│ lstm_5 (<span style=\"color: #0087ff; text-decoration-color: #0087ff\">LSTM</span>)                   │ (<span style=\"color: #00d7ff; text-decoration-color: #00d7ff\">None</span>, <span style=\"color: #00af00; text-decoration-color: #00af00\">64</span>)             │        <span style=\"color: #00af00; text-decoration-color: #00af00\">19,712</span> │\n",
       "├─────────────────────────────────┼────────────────────────┼───────────────┤\n",
       "│ dropout_18 (<span style=\"color: #0087ff; text-decoration-color: #0087ff\">Dropout</span>)            │ (<span style=\"color: #00d7ff; text-decoration-color: #00d7ff\">None</span>, <span style=\"color: #00af00; text-decoration-color: #00af00\">64</span>)             │             <span style=\"color: #00af00; text-decoration-color: #00af00\">0</span> │\n",
       "├─────────────────────────────────┼────────────────────────┼───────────────┤\n",
       "│ dense_17 (<span style=\"color: #0087ff; text-decoration-color: #0087ff\">Dense</span>)                │ (<span style=\"color: #00d7ff; text-decoration-color: #00d7ff\">None</span>, <span style=\"color: #00af00; text-decoration-color: #00af00\">32</span>)             │         <span style=\"color: #00af00; text-decoration-color: #00af00\">2,080</span> │\n",
       "├─────────────────────────────────┼────────────────────────┼───────────────┤\n",
       "│ dropout_19 (<span style=\"color: #0087ff; text-decoration-color: #0087ff\">Dropout</span>)            │ (<span style=\"color: #00d7ff; text-decoration-color: #00d7ff\">None</span>, <span style=\"color: #00af00; text-decoration-color: #00af00\">32</span>)             │             <span style=\"color: #00af00; text-decoration-color: #00af00\">0</span> │\n",
       "├─────────────────────────────────┼────────────────────────┼───────────────┤\n",
       "│ dense_18 (<span style=\"color: #0087ff; text-decoration-color: #0087ff\">Dense</span>)                │ (<span style=\"color: #00d7ff; text-decoration-color: #00d7ff\">None</span>, <span style=\"color: #00af00; text-decoration-color: #00af00\">1</span>)              │            <span style=\"color: #00af00; text-decoration-color: #00af00\">33</span> │\n",
       "└─────────────────────────────────┴────────────────────────┴───────────────┘\n",
       "</pre>\n"
      ],
      "text/plain": [
       "┏━━━━━━━━━━━━━━━━━━━━━━━━━━━━━━━━━┳━━━━━━━━━━━━━━━━━━━━━━━━┳━━━━━━━━━━━━━━━┓\n",
       "┃\u001b[1m \u001b[0m\u001b[1mLayer (type)                   \u001b[0m\u001b[1m \u001b[0m┃\u001b[1m \u001b[0m\u001b[1mOutput Shape          \u001b[0m\u001b[1m \u001b[0m┃\u001b[1m \u001b[0m\u001b[1m      Param #\u001b[0m\u001b[1m \u001b[0m┃\n",
       "┡━━━━━━━━━━━━━━━━━━━━━━━━━━━━━━━━━╇━━━━━━━━━━━━━━━━━━━━━━━━╇━━━━━━━━━━━━━━━┩\n",
       "│ lstm_5 (\u001b[38;5;33mLSTM\u001b[0m)                   │ (\u001b[38;5;45mNone\u001b[0m, \u001b[38;5;34m64\u001b[0m)             │        \u001b[38;5;34m19,712\u001b[0m │\n",
       "├─────────────────────────────────┼────────────────────────┼───────────────┤\n",
       "│ dropout_18 (\u001b[38;5;33mDropout\u001b[0m)            │ (\u001b[38;5;45mNone\u001b[0m, \u001b[38;5;34m64\u001b[0m)             │             \u001b[38;5;34m0\u001b[0m │\n",
       "├─────────────────────────────────┼────────────────────────┼───────────────┤\n",
       "│ dense_17 (\u001b[38;5;33mDense\u001b[0m)                │ (\u001b[38;5;45mNone\u001b[0m, \u001b[38;5;34m32\u001b[0m)             │         \u001b[38;5;34m2,080\u001b[0m │\n",
       "├─────────────────────────────────┼────────────────────────┼───────────────┤\n",
       "│ dropout_19 (\u001b[38;5;33mDropout\u001b[0m)            │ (\u001b[38;5;45mNone\u001b[0m, \u001b[38;5;34m32\u001b[0m)             │             \u001b[38;5;34m0\u001b[0m │\n",
       "├─────────────────────────────────┼────────────────────────┼───────────────┤\n",
       "│ dense_18 (\u001b[38;5;33mDense\u001b[0m)                │ (\u001b[38;5;45mNone\u001b[0m, \u001b[38;5;34m1\u001b[0m)              │            \u001b[38;5;34m33\u001b[0m │\n",
       "└─────────────────────────────────┴────────────────────────┴───────────────┘\n"
      ]
     },
     "metadata": {},
     "output_type": "display_data"
    },
    {
     "data": {
      "text/html": [
       "<pre style=\"white-space:pre;overflow-x:auto;line-height:normal;font-family:Menlo,'DejaVu Sans Mono',consolas,'Courier New',monospace\"><span style=\"font-weight: bold\"> Total params: </span><span style=\"color: #00af00; text-decoration-color: #00af00\">21,825</span> (85.25 KB)\n",
       "</pre>\n"
      ],
      "text/plain": [
       "\u001b[1m Total params: \u001b[0m\u001b[38;5;34m21,825\u001b[0m (85.25 KB)\n"
      ]
     },
     "metadata": {},
     "output_type": "display_data"
    },
    {
     "data": {
      "text/html": [
       "<pre style=\"white-space:pre;overflow-x:auto;line-height:normal;font-family:Menlo,'DejaVu Sans Mono',consolas,'Courier New',monospace\"><span style=\"font-weight: bold\"> Trainable params: </span><span style=\"color: #00af00; text-decoration-color: #00af00\">21,825</span> (85.25 KB)\n",
       "</pre>\n"
      ],
      "text/plain": [
       "\u001b[1m Trainable params: \u001b[0m\u001b[38;5;34m21,825\u001b[0m (85.25 KB)\n"
      ]
     },
     "metadata": {},
     "output_type": "display_data"
    },
    {
     "data": {
      "text/html": [
       "<pre style=\"white-space:pre;overflow-x:auto;line-height:normal;font-family:Menlo,'DejaVu Sans Mono',consolas,'Courier New',monospace\"><span style=\"font-weight: bold\"> Non-trainable params: </span><span style=\"color: #00af00; text-decoration-color: #00af00\">0</span> (0.00 B)\n",
       "</pre>\n"
      ],
      "text/plain": [
       "\u001b[1m Non-trainable params: \u001b[0m\u001b[38;5;34m0\u001b[0m (0.00 B)\n"
      ]
     },
     "metadata": {},
     "output_type": "display_data"
    }
   ],
   "source": [
    "# Define the input shape\n",
    "timesteps = X_train.shape[1]  # 21 because we did the 21 day window\n",
    "n_features = X_train.shape[2]  # Should be 12\n",
    "\n",
    "# Calculate class weights to handle target feature imbalance\n",
    "weights_lstm = class_weight.compute_class_weight(\n",
    "    class_weight='balanced',\n",
    "    classes=np.unique(y_train),\n",
    "    y=y_train)\n",
    "class_weight_lstm = dict(enumerate(weights_lstm))\n",
    "\n",
    "# Build the actual LSTM model - 21 days over the 12 features\n",
    "model_lstm = Sequential([LSTM(64, input_shape=(timesteps, n_features)), Dropout(0.3),\n",
    "    Dense(32, activation='relu'), Dropout(0.2), Dense(1, activation='sigmoid')])\n",
    "\n",
    "# Compile the model\n",
    "model_lstm.compile(loss='binary_crossentropy', optimizer='adam', metrics=['accuracy', Recall(name='recall'), AUC(name='auc')])\n",
    "\n",
    "model_lstm.summary()"
   ]
  },
  {
   "cell_type": "markdown",
   "id": "d21fdd9b",
   "metadata": {},
   "source": [
    "**Training Model with Class Weight**"
   ]
  },
  {
   "cell_type": "markdown",
   "id": "4a1fcaf7",
   "metadata": {},
   "source": [
    "From our project rough draft, we also found that early stopping improved our scores so we will do it here."
   ]
  },
  {
   "cell_type": "code",
   "execution_count": 48,
   "id": "50bb600f",
   "metadata": {},
   "outputs": [
    {
     "name": "stdout",
     "output_type": "stream",
     "text": [
      "Epoch 1/15\n",
      "164/164 - 2s - 12ms/step - accuracy: 0.7430 - auc: 0.8122 - loss: 0.5316 - recall: 0.7718 - val_accuracy: 0.7390 - val_auc: 0.8245 - val_loss: 0.5440 - val_recall: 0.8221\n",
      "Epoch 2/15\n",
      "164/164 - 1s - 6ms/step - accuracy: 0.7580 - auc: 0.8319 - loss: 0.5048 - recall: 0.7868 - val_accuracy: 0.7488 - val_auc: 0.8249 - val_loss: 0.5387 - val_recall: 0.7642\n",
      "Epoch 3/15\n",
      "164/164 - 1s - 6ms/step - accuracy: 0.7622 - auc: 0.8353 - loss: 0.5005 - recall: 0.7902 - val_accuracy: 0.7430 - val_auc: 0.8317 - val_loss: 0.5517 - val_recall: 0.8387\n",
      "Epoch 4/15\n",
      "164/164 - 1s - 6ms/step - accuracy: 0.7595 - auc: 0.8403 - loss: 0.4922 - recall: 0.7884 - val_accuracy: 0.7073 - val_auc: 0.8327 - val_loss: 0.5685 - val_recall: 0.8759\n",
      "Epoch 5/15\n",
      "164/164 - 1s - 6ms/step - accuracy: 0.7595 - auc: 0.8409 - loss: 0.4914 - recall: 0.7927 - val_accuracy: 0.6944 - val_auc: 0.8315 - val_loss: 0.5896 - val_recall: 0.8821\n"
     ]
    }
   ],
   "source": [
    "early_stop_lstm = EarlyStopping(monitor='val_loss', patience=3, restore_best_weights=True)\n",
    "\n",
    "history_lstm = model_lstm.fit(X_train, y_train, validation_data=(X_val, y_val), epochs=15,\n",
    "    batch_size=64, class_weight=class_weight_lstm, verbose=2, callbacks=[early_stop_lstm])"
   ]
  },
  {
   "cell_type": "markdown",
   "id": "2f18cc22",
   "metadata": {},
   "source": [
    "## **Evaluate Performance on Validation Set**"
   ]
  },
  {
   "cell_type": "markdown",
   "id": "4b8f07fe",
   "metadata": {},
   "source": [
    "For metrics I chose recall, precision, F1, and ROC-AUC curve, with recall being the most important. \n",
    "- **Recall**: Missing a fire could be catastrophic\n",
    "- **Precision**: Helps control false alarms; important for trust in the system but less critical than recall\n",
    "- **F1**: Balances precision and recall\n",
    "- **ROC-AUC**: Shows model’s ability to discriminate fires from no-fires"
   ]
  },
  {
   "cell_type": "markdown",
   "id": "40b2c518",
   "metadata": {},
   "source": [
    "From this, priority goes **Recall** > **F1** > **Precision**"
   ]
  },
  {
   "cell_type": "code",
   "execution_count": 49,
   "id": "bd9eef91",
   "metadata": {},
   "outputs": [
    {
     "name": "stdout",
     "output_type": "stream",
     "text": [
      "\u001b[1m71/71\u001b[0m \u001b[32m━━━━━━━━━━━━━━━━━━━━\u001b[0m\u001b[37m\u001b[0m \u001b[1m0s\u001b[0m 2ms/step\n",
      "Classification Report (LSTM):\n",
      "              precision    recall  f1-score   support\n",
      "\n",
      "           0       0.81      0.74      0.77      1278\n",
      "           1       0.69      0.76      0.72       967\n",
      "\n",
      "    accuracy                           0.75      2245\n",
      "   macro avg       0.75      0.75      0.75      2245\n",
      "weighted avg       0.75      0.75      0.75      2245\n",
      "\n",
      "LSTM ROC-AUC Score: 0.8253\n"
     ]
    }
   ],
   "source": [
    "# Predict probabilities for validation set\n",
    "y_val_probs_lstm = model_lstm.predict(X_val).flatten()\n",
    "y_val_preds_lstm = (y_val_probs_lstm >= 0.5).astype(int)  # Default threshold of 0.5\n",
    "\n",
    "# Classification report (precision, recall, f1) and ROC-AUC curve\n",
    "print(\"Classification Report (LSTM):\")\n",
    "print(classification_report(y_val, y_val_preds_lstm))\n",
    "\n",
    "roc_auc_lstm = roc_auc_score(y_val, y_val_probs_lstm)\n",
    "print(f\"LSTM ROC-AUC Score: {roc_auc_lstm:.4f}\")"
   ]
  },
  {
   "cell_type": "markdown",
   "id": "d99bda3d",
   "metadata": {},
   "source": [
    "## **Evaluate Performance: Tuning Thresholds to Balance and Optimize Recall/F1**"
   ]
  },
  {
   "cell_type": "markdown",
   "id": "2abb81c2",
   "metadata": {},
   "source": [
    "For our case, we don't necesarrily want to maximize recall. Having a maxed out recall means that our model catches almost all fires which is incredible for safety. However, there is a cost to it and that cost is having many false alarms. We do not want many false alarms because that can cause distrust in the system and potentially waste resources. So rather than maximizing recall, we want to balance it with F1 and precision while having acceptable scores."
   ]
  },
  {
   "cell_type": "code",
   "execution_count": 50,
   "id": "a114a63e",
   "metadata": {},
   "outputs": [
    {
     "name": "stdout",
     "output_type": "stream",
     "text": [
      "Chosen threshold (LSTM): 0.41\n",
      "Recall (LSTM): 0.8294\n",
      "F1-score (LSTM): 0.7304\n",
      "Precision (LSTM): 0.6526\n",
      "Classification Report (LSTM) with chosen threshold:\n",
      "              precision    recall  f1-score   support\n",
      "\n",
      "           0       0.84      0.67      0.74      1278\n",
      "           1       0.65      0.83      0.73       967\n",
      "\n",
      "    accuracy                           0.74      2245\n",
      "   macro avg       0.75      0.75      0.74      2245\n",
      "weighted avg       0.76      0.74      0.74      2245\n",
      "\n",
      "ROC-AUC Score (LSTM): 0.8253\n"
     ]
    }
   ],
   "source": [
    "thresholds = np.arange(0.40, 0.61, 0.01)  # Play around with thresholds to balance\n",
    "best_thresh_lstm = 0.5\n",
    "best_f1_lstm = 0\n",
    "best_recall_lstm = 0\n",
    "best_precision_lstm = 0\n",
    "\n",
    "for t in thresholds:\n",
    "    preds_lstm = (y_val_probs_lstm >= t).astype(int)\n",
    "    recall = recall_score(y_val, preds_lstm)\n",
    "    f1 = f1_score(y_val, preds_lstm)\n",
    "    precision = precision_score(y_val, preds_lstm)\n",
    "\n",
    "    if recall >= 0.80 and f1 > best_f1_lstm:\n",
    "        best_f1_lstm = f1\n",
    "        best_thresh_lstm = t\n",
    "        best_recall_lstm = recall\n",
    "        best_precision_lstm = precision\n",
    "\n",
    "print(f\"Chosen threshold (LSTM): {best_thresh_lstm:.2f}\")\n",
    "print(f\"Recall (LSTM): {best_recall_lstm:.4f}\")\n",
    "print(f\"F1-score (LSTM): {best_f1_lstm:.4f}\")\n",
    "print(f\"Precision (LSTM): {best_precision_lstm:.4f}\")\n",
    "\n",
    "# Final predictions with chosen threshold\n",
    "final_preds_lstm = (y_val_probs_lstm >= best_thresh_lstm).astype(int)\n",
    "\n",
    "print(\"Classification Report (LSTM) with chosen threshold:\")\n",
    "print(classification_report(y_val, final_preds_lstm))\n",
    "print(f\"ROC-AUC Score (LSTM): {roc_auc_score(y_val, y_val_probs_lstm):.4f}\")"
   ]
  },
  {
   "cell_type": "markdown",
   "id": "99a999a8",
   "metadata": {},
   "source": [
    "**Evaluate Performance on Test Set for LSTM (After Tuning)**"
   ]
  },
  {
   "cell_type": "code",
   "execution_count": 51,
   "id": "b315194b",
   "metadata": {},
   "outputs": [
    {
     "name": "stdout",
     "output_type": "stream",
     "text": [
      "\u001b[1m71/71\u001b[0m \u001b[32m━━━━━━━━━━━━━━━━━━━━\u001b[0m\u001b[37m\u001b[0m \u001b[1m0s\u001b[0m 1ms/step\n",
      "Test Set Classification Report (LSTM):\n",
      "              precision    recall  f1-score   support\n",
      "\n",
      "           0       0.87      0.60      0.71      1436\n",
      "           1       0.54      0.85      0.66       810\n",
      "\n",
      "    accuracy                           0.69      2246\n",
      "   macro avg       0.71      0.72      0.68      2246\n",
      "weighted avg       0.75      0.69      0.69      2246\n",
      "\n",
      "Test Set ROC-AUC Score (LSTM): 0.7919\n"
     ]
    }
   ],
   "source": [
    "# Predict probabilities on test set\n",
    "y_test_probs_lstm = model_lstm.predict(X_test).flatten()\n",
    "y_test_preds_lstm = (y_test_probs_lstm >= best_thresh_lstm).astype(int)\n",
    "\n",
    "print(\"Test Set Classification Report (LSTM):\")\n",
    "print(classification_report(y_test, y_test_preds_lstm))\n",
    "roc_auc_lstm_test = roc_auc_score(y_test, y_test_probs_lstm)\n",
    "print(f\"Test Set ROC-AUC Score (LSTM): {roc_auc_lstm_test:.4f}\")"
   ]
  },
  {
   "cell_type": "markdown",
   "id": "cb981cc0",
   "metadata": {},
   "source": [
    "## **Model #2: GRU**"
   ]
  },
  {
   "cell_type": "markdown",
   "id": "b76f01b2",
   "metadata": {},
   "source": [
    "**Apply the same steps as we did with LSTM to GRU**"
   ]
  },
  {
   "cell_type": "code",
   "execution_count": 52,
   "id": "85e4ee93",
   "metadata": {},
   "outputs": [
    {
     "name": "stderr",
     "output_type": "stream",
     "text": [
      "/Users/marielle/anaconda3/lib/python3.11/site-packages/keras/src/layers/rnn/rnn.py:204: UserWarning: Do not pass an `input_shape`/`input_dim` argument to a layer. When using Sequential models, prefer using an `Input(shape)` object as the first layer in the model instead.\n",
      "  super().__init__(**kwargs)\n"
     ]
    },
    {
     "data": {
      "text/html": [
       "<pre style=\"white-space:pre;overflow-x:auto;line-height:normal;font-family:Menlo,'DejaVu Sans Mono',consolas,'Courier New',monospace\"><span style=\"font-weight: bold\">Model: \"sequential_8\"</span>\n",
       "</pre>\n"
      ],
      "text/plain": [
       "\u001b[1mModel: \"sequential_8\"\u001b[0m\n"
      ]
     },
     "metadata": {},
     "output_type": "display_data"
    },
    {
     "data": {
      "text/html": [
       "<pre style=\"white-space:pre;overflow-x:auto;line-height:normal;font-family:Menlo,'DejaVu Sans Mono',consolas,'Courier New',monospace\">┏━━━━━━━━━━━━━━━━━━━━━━━━━━━━━━━━━┳━━━━━━━━━━━━━━━━━━━━━━━━┳━━━━━━━━━━━━━━━┓\n",
       "┃<span style=\"font-weight: bold\"> Layer (type)                    </span>┃<span style=\"font-weight: bold\"> Output Shape           </span>┃<span style=\"font-weight: bold\">       Param # </span>┃\n",
       "┡━━━━━━━━━━━━━━━━━━━━━━━━━━━━━━━━━╇━━━━━━━━━━━━━━━━━━━━━━━━╇━━━━━━━━━━━━━━━┩\n",
       "│ gru_1 (<span style=\"color: #0087ff; text-decoration-color: #0087ff\">GRU</span>)                     │ (<span style=\"color: #00d7ff; text-decoration-color: #00d7ff\">None</span>, <span style=\"color: #00af00; text-decoration-color: #00af00\">64</span>)             │        <span style=\"color: #00af00; text-decoration-color: #00af00\">14,976</span> │\n",
       "├─────────────────────────────────┼────────────────────────┼───────────────┤\n",
       "│ dropout_20 (<span style=\"color: #0087ff; text-decoration-color: #0087ff\">Dropout</span>)            │ (<span style=\"color: #00d7ff; text-decoration-color: #00d7ff\">None</span>, <span style=\"color: #00af00; text-decoration-color: #00af00\">64</span>)             │             <span style=\"color: #00af00; text-decoration-color: #00af00\">0</span> │\n",
       "├─────────────────────────────────┼────────────────────────┼───────────────┤\n",
       "│ dense_19 (<span style=\"color: #0087ff; text-decoration-color: #0087ff\">Dense</span>)                │ (<span style=\"color: #00d7ff; text-decoration-color: #00d7ff\">None</span>, <span style=\"color: #00af00; text-decoration-color: #00af00\">32</span>)             │         <span style=\"color: #00af00; text-decoration-color: #00af00\">2,080</span> │\n",
       "├─────────────────────────────────┼────────────────────────┼───────────────┤\n",
       "│ dropout_21 (<span style=\"color: #0087ff; text-decoration-color: #0087ff\">Dropout</span>)            │ (<span style=\"color: #00d7ff; text-decoration-color: #00d7ff\">None</span>, <span style=\"color: #00af00; text-decoration-color: #00af00\">32</span>)             │             <span style=\"color: #00af00; text-decoration-color: #00af00\">0</span> │\n",
       "├─────────────────────────────────┼────────────────────────┼───────────────┤\n",
       "│ dense_20 (<span style=\"color: #0087ff; text-decoration-color: #0087ff\">Dense</span>)                │ (<span style=\"color: #00d7ff; text-decoration-color: #00d7ff\">None</span>, <span style=\"color: #00af00; text-decoration-color: #00af00\">1</span>)              │            <span style=\"color: #00af00; text-decoration-color: #00af00\">33</span> │\n",
       "└─────────────────────────────────┴────────────────────────┴───────────────┘\n",
       "</pre>\n"
      ],
      "text/plain": [
       "┏━━━━━━━━━━━━━━━━━━━━━━━━━━━━━━━━━┳━━━━━━━━━━━━━━━━━━━━━━━━┳━━━━━━━━━━━━━━━┓\n",
       "┃\u001b[1m \u001b[0m\u001b[1mLayer (type)                   \u001b[0m\u001b[1m \u001b[0m┃\u001b[1m \u001b[0m\u001b[1mOutput Shape          \u001b[0m\u001b[1m \u001b[0m┃\u001b[1m \u001b[0m\u001b[1m      Param #\u001b[0m\u001b[1m \u001b[0m┃\n",
       "┡━━━━━━━━━━━━━━━━━━━━━━━━━━━━━━━━━╇━━━━━━━━━━━━━━━━━━━━━━━━╇━━━━━━━━━━━━━━━┩\n",
       "│ gru_1 (\u001b[38;5;33mGRU\u001b[0m)                     │ (\u001b[38;5;45mNone\u001b[0m, \u001b[38;5;34m64\u001b[0m)             │        \u001b[38;5;34m14,976\u001b[0m │\n",
       "├─────────────────────────────────┼────────────────────────┼───────────────┤\n",
       "│ dropout_20 (\u001b[38;5;33mDropout\u001b[0m)            │ (\u001b[38;5;45mNone\u001b[0m, \u001b[38;5;34m64\u001b[0m)             │             \u001b[38;5;34m0\u001b[0m │\n",
       "├─────────────────────────────────┼────────────────────────┼───────────────┤\n",
       "│ dense_19 (\u001b[38;5;33mDense\u001b[0m)                │ (\u001b[38;5;45mNone\u001b[0m, \u001b[38;5;34m32\u001b[0m)             │         \u001b[38;5;34m2,080\u001b[0m │\n",
       "├─────────────────────────────────┼────────────────────────┼───────────────┤\n",
       "│ dropout_21 (\u001b[38;5;33mDropout\u001b[0m)            │ (\u001b[38;5;45mNone\u001b[0m, \u001b[38;5;34m32\u001b[0m)             │             \u001b[38;5;34m0\u001b[0m │\n",
       "├─────────────────────────────────┼────────────────────────┼───────────────┤\n",
       "│ dense_20 (\u001b[38;5;33mDense\u001b[0m)                │ (\u001b[38;5;45mNone\u001b[0m, \u001b[38;5;34m1\u001b[0m)              │            \u001b[38;5;34m33\u001b[0m │\n",
       "└─────────────────────────────────┴────────────────────────┴───────────────┘\n"
      ]
     },
     "metadata": {},
     "output_type": "display_data"
    },
    {
     "data": {
      "text/html": [
       "<pre style=\"white-space:pre;overflow-x:auto;line-height:normal;font-family:Menlo,'DejaVu Sans Mono',consolas,'Courier New',monospace\"><span style=\"font-weight: bold\"> Total params: </span><span style=\"color: #00af00; text-decoration-color: #00af00\">17,089</span> (66.75 KB)\n",
       "</pre>\n"
      ],
      "text/plain": [
       "\u001b[1m Total params: \u001b[0m\u001b[38;5;34m17,089\u001b[0m (66.75 KB)\n"
      ]
     },
     "metadata": {},
     "output_type": "display_data"
    },
    {
     "data": {
      "text/html": [
       "<pre style=\"white-space:pre;overflow-x:auto;line-height:normal;font-family:Menlo,'DejaVu Sans Mono',consolas,'Courier New',monospace\"><span style=\"font-weight: bold\"> Trainable params: </span><span style=\"color: #00af00; text-decoration-color: #00af00\">17,089</span> (66.75 KB)\n",
       "</pre>\n"
      ],
      "text/plain": [
       "\u001b[1m Trainable params: \u001b[0m\u001b[38;5;34m17,089\u001b[0m (66.75 KB)\n"
      ]
     },
     "metadata": {},
     "output_type": "display_data"
    },
    {
     "data": {
      "text/html": [
       "<pre style=\"white-space:pre;overflow-x:auto;line-height:normal;font-family:Menlo,'DejaVu Sans Mono',consolas,'Courier New',monospace\"><span style=\"font-weight: bold\"> Non-trainable params: </span><span style=\"color: #00af00; text-decoration-color: #00af00\">0</span> (0.00 B)\n",
       "</pre>\n"
      ],
      "text/plain": [
       "\u001b[1m Non-trainable params: \u001b[0m\u001b[38;5;34m0\u001b[0m (0.00 B)\n"
      ]
     },
     "metadata": {},
     "output_type": "display_data"
    }
   ],
   "source": [
    "# Windowing and splitting dataset is the same!\n",
    "\n",
    "# Define input shape - same\n",
    "timesteps = X_train.shape[1]\n",
    "n_features = X_train.shape[2]\n",
    "\n",
    "# Calculate weights - same\n",
    "weights_gru = class_weight.compute_class_weight(\n",
    "    class_weight='balanced',\n",
    "    classes=np.unique(y_train),\n",
    "    y=y_train)\n",
    "class_weight_gru = dict(enumerate(weights_gru))\n",
    "\n",
    "# Build GRU model\n",
    "model_gru = Sequential([GRU(64, input_shape=(timesteps, n_features)), Dropout(0.3),\n",
    "    Dense(32, activation='relu'), Dropout(0.2), Dense(1, activation='sigmoid')])\n",
    "\n",
    "# Compile model - same\n",
    "model_gru.compile(loss='binary_crossentropy', optimizer='adam',\n",
    "    metrics=['accuracy', Recall(name='recall'), AUC(name='auc')])\n",
    "\n",
    "model_gru.summary()"
   ]
  },
  {
   "cell_type": "markdown",
   "id": "b01cb67e",
   "metadata": {},
   "source": [
    "**Train GRU Model**"
   ]
  },
  {
   "cell_type": "code",
   "execution_count": 53,
   "id": "0cba7471",
   "metadata": {},
   "outputs": [
    {
     "name": "stdout",
     "output_type": "stream",
     "text": [
      "Epoch 1/15\n",
      "164/164 - 2s - 13ms/step - accuracy: 0.7429 - auc: 0.8172 - loss: 0.5255 - recall: 0.7905 - val_accuracy: 0.7519 - val_auc: 0.8253 - val_loss: 0.5228 - val_recall: 0.7983\n",
      "Epoch 2/15\n",
      "164/164 - 1s - 6ms/step - accuracy: 0.7588 - auc: 0.8345 - loss: 0.5003 - recall: 0.7984 - val_accuracy: 0.7421 - val_auc: 0.8284 - val_loss: 0.5499 - val_recall: 0.8480\n",
      "Epoch 3/15\n",
      "164/164 - 1s - 6ms/step - accuracy: 0.7578 - auc: 0.8385 - loss: 0.4935 - recall: 0.8049 - val_accuracy: 0.7612 - val_auc: 0.8290 - val_loss: 0.5185 - val_recall: 0.7684\n",
      "Epoch 4/15\n",
      "164/164 - 1s - 6ms/step - accuracy: 0.7627 - auc: 0.8423 - loss: 0.4887 - recall: 0.7968 - val_accuracy: 0.7416 - val_auc: 0.8273 - val_loss: 0.5586 - val_recall: 0.8376\n",
      "Epoch 5/15\n",
      "164/164 - 1s - 6ms/step - accuracy: 0.7603 - auc: 0.8406 - loss: 0.4912 - recall: 0.8006 - val_accuracy: 0.7434 - val_auc: 0.8282 - val_loss: 0.5399 - val_recall: 0.8356\n",
      "Epoch 6/15\n",
      "164/164 - 1s - 6ms/step - accuracy: 0.7603 - auc: 0.8430 - loss: 0.4872 - recall: 0.8065 - val_accuracy: 0.7514 - val_auc: 0.8289 - val_loss: 0.5313 - val_recall: 0.8139\n"
     ]
    }
   ],
   "source": [
    "# Early stopping - same\n",
    "early_stop_gru = EarlyStopping(monitor='val_loss', patience=3, restore_best_weights=True)\n",
    "\n",
    "# Training model - same\n",
    "history_gru = model_gru.fit(X_train, y_train, validation_data=(X_val, y_val),\n",
    "    epochs=15, batch_size=64, class_weight=class_weight_gru, verbose=2, callbacks=[early_stop_gru])"
   ]
  },
  {
   "cell_type": "markdown",
   "id": "8a84e1ca",
   "metadata": {},
   "source": [
    "**Pre-Tuning Evaluation Validation Set**"
   ]
  },
  {
   "cell_type": "code",
   "execution_count": 54,
   "id": "020c56ae",
   "metadata": {},
   "outputs": [
    {
     "name": "stdout",
     "output_type": "stream",
     "text": [
      "\u001b[1m71/71\u001b[0m \u001b[32m━━━━━━━━━━━━━━━━━━━━\u001b[0m\u001b[37m\u001b[0m \u001b[1m0s\u001b[0m 2ms/step\n",
      "Validation set results with default threshold 0.5 (GRU):\n",
      "              precision    recall  f1-score   support\n",
      "\n",
      "           0       0.81      0.76      0.78      1278\n",
      "           1       0.70      0.77      0.73       967\n",
      "\n",
      "    accuracy                           0.76      2245\n",
      "   macro avg       0.76      0.76      0.76      2245\n",
      "weighted avg       0.77      0.76      0.76      2245\n",
      "\n",
      "ROC-AUC (GRU): 0.8289\n"
     ]
    }
   ],
   "source": [
    "# Predict validation probabilities\n",
    "y_val_probs_gru = model_gru.predict(X_val).flatten()\n",
    "\n",
    "# Default threshold evaluation\n",
    "y_val_preds_gru = (y_val_probs_gru >= 0.5).astype(int)\n",
    "print(\"Validation set results with default threshold 0.5 (GRU):\")\n",
    "print(classification_report(y_val, y_val_preds_gru))\n",
    "print(f\"ROC-AUC (GRU): {roc_auc_score(y_val, y_val_probs_gru):.4f}\")"
   ]
  },
  {
   "cell_type": "markdown",
   "id": "665b886f",
   "metadata": {},
   "source": [
    "**GRU Threshold Tuning**"
   ]
  },
  {
   "cell_type": "code",
   "execution_count": 55,
   "id": "da9e90c1",
   "metadata": {},
   "outputs": [
    {
     "name": "stdout",
     "output_type": "stream",
     "text": [
      "Chosen threshold (GRU): 0.43\n",
      "Recall (GRU): 0.8159\n",
      "F1-score (GRU): 0.7391\n",
      "Precision (GRU): 0.6755\n",
      "Validation set results after threshold tuning (GRU):\n",
      "              precision    recall  f1-score   support\n",
      "\n",
      "           0       0.83      0.70      0.76      1278\n",
      "           1       0.68      0.82      0.74       967\n",
      "\n",
      "    accuracy                           0.75      2245\n",
      "   macro avg       0.76      0.76      0.75      2245\n",
      "weighted avg       0.77      0.75      0.75      2245\n",
      "\n",
      "ROC-AUC (GRU): 0.8289\n"
     ]
    }
   ],
   "source": [
    "thresholds = np.arange(0.40, 0.61, 0.01)\n",
    "best_thresh_gru = 0.5\n",
    "best_f1_gru = 0\n",
    "best_recall_gru = 0\n",
    "best_precision_gru = 0\n",
    "\n",
    "for t in thresholds:\n",
    "    preds_gru = (y_val_probs_gru >= t).astype(int)\n",
    "    recall = recall_score(y_val, preds_gru)\n",
    "    f1 = f1_score(y_val, preds_gru)\n",
    "    precision = precision_score(y_val, preds_gru)\n",
    "\n",
    "    if recall >= 0.80 and f1 > best_f1_gru:\n",
    "        best_f1_gru = f1\n",
    "        best_thresh_gru = t\n",
    "        best_recall_gru = recall\n",
    "        best_precision_gru = precision\n",
    "\n",
    "print(f\"Chosen threshold (GRU): {best_thresh_gru:.2f}\")\n",
    "print(f\"Recall (GRU): {best_recall_gru:.4f}\")\n",
    "print(f\"F1-score (GRU): {best_f1_gru:.4f}\")\n",
    "print(f\"Precision (GRU): {best_precision_gru:.4f}\")\n",
    "\n",
    "final_preds_gru = (y_val_probs_gru >= best_thresh_gru).astype(int)\n",
    "\n",
    "print(\"Validation set results after threshold tuning (GRU):\")\n",
    "print(classification_report(y_val, final_preds_gru))\n",
    "print(f\"ROC-AUC (GRU): {roc_auc_score(y_val, y_val_probs_gru):.4f}\")"
   ]
  },
  {
   "cell_type": "markdown",
   "id": "7cd776ca",
   "metadata": {},
   "source": [
    "**GRU Test Set Evaluation with Tuning**"
   ]
  },
  {
   "cell_type": "code",
   "execution_count": 56,
   "id": "3ab84883",
   "metadata": {},
   "outputs": [
    {
     "name": "stdout",
     "output_type": "stream",
     "text": [
      "\u001b[1m71/71\u001b[0m \u001b[32m━━━━━━━━━━━━━━━━━━━━\u001b[0m\u001b[37m\u001b[0m \u001b[1m0s\u001b[0m 1ms/step\n",
      "\u001b[1m71/71\u001b[0m \u001b[32m━━━━━━━━━━━━━━━━━━━━\u001b[0m\u001b[37m\u001b[0m \u001b[1m0s\u001b[0m 1ms/step\n",
      "Test set results (GRU):\n",
      "              precision    recall  f1-score   support\n",
      "\n",
      "           0       0.88      0.62      0.73      1436\n",
      "           1       0.56      0.85      0.67       810\n",
      "\n",
      "    accuracy                           0.71      2246\n",
      "   macro avg       0.72      0.74      0.70      2246\n",
      "weighted avg       0.76      0.71      0.71      2246\n",
      "\n",
      "ROC-AUC (GRU): 0.8001\n"
     ]
    }
   ],
   "source": [
    "y_test_probs_gru = model_gru.predict(X_test).flatten()\n",
    "y_test_preds_gru = (y_test_probs_gru >= best_thresh_gru).astype(int)\n",
    "\n",
    "y_test_probs_gru = model_gru.predict(X_test).flatten()\n",
    "y_test_preds_gru = (y_test_probs_gru >= best_thresh_gru).astype(int)\n",
    "\n",
    "print(\"Test set results (GRU):\")\n",
    "print(classification_report(y_test, y_test_preds_gru))\n",
    "print(f\"ROC-AUC (GRU): {roc_auc_score(y_test, y_test_probs_gru):.4f}\")"
   ]
  },
  {
   "cell_type": "markdown",
   "id": "bc4296c8",
   "metadata": {},
   "source": [
    "## **Model #3: BiDirectional LSTM**"
   ]
  },
  {
   "cell_type": "markdown",
   "id": "5f9bd217",
   "metadata": {},
   "source": [
    "**Building the Bidirectional LSTM Model**"
   ]
  },
  {
   "cell_type": "code",
   "execution_count": 57,
   "id": "45e01664",
   "metadata": {},
   "outputs": [
    {
     "name": "stderr",
     "output_type": "stream",
     "text": [
      "/Users/marielle/anaconda3/lib/python3.11/site-packages/keras/src/layers/rnn/bidirectional.py:107: UserWarning: Do not pass an `input_shape`/`input_dim` argument to a layer. When using Sequential models, prefer using an `Input(shape)` object as the first layer in the model instead.\n",
      "  super().__init__(**kwargs)\n"
     ]
    },
    {
     "data": {
      "text/html": [
       "<pre style=\"white-space:pre;overflow-x:auto;line-height:normal;font-family:Menlo,'DejaVu Sans Mono',consolas,'Courier New',monospace\"><span style=\"font-weight: bold\">Model: \"sequential_9\"</span>\n",
       "</pre>\n"
      ],
      "text/plain": [
       "\u001b[1mModel: \"sequential_9\"\u001b[0m\n"
      ]
     },
     "metadata": {},
     "output_type": "display_data"
    },
    {
     "data": {
      "text/html": [
       "<pre style=\"white-space:pre;overflow-x:auto;line-height:normal;font-family:Menlo,'DejaVu Sans Mono',consolas,'Courier New',monospace\">┏━━━━━━━━━━━━━━━━━━━━━━━━━━━━━━━━━┳━━━━━━━━━━━━━━━━━━━━━━━━┳━━━━━━━━━━━━━━━┓\n",
       "┃<span style=\"font-weight: bold\"> Layer (type)                    </span>┃<span style=\"font-weight: bold\"> Output Shape           </span>┃<span style=\"font-weight: bold\">       Param # </span>┃\n",
       "┡━━━━━━━━━━━━━━━━━━━━━━━━━━━━━━━━━╇━━━━━━━━━━━━━━━━━━━━━━━━╇━━━━━━━━━━━━━━━┩\n",
       "│ bidirectional_1 (<span style=\"color: #0087ff; text-decoration-color: #0087ff\">Bidirectional</span>) │ (<span style=\"color: #00d7ff; text-decoration-color: #00d7ff\">None</span>, <span style=\"color: #00af00; text-decoration-color: #00af00\">128</span>)            │        <span style=\"color: #00af00; text-decoration-color: #00af00\">39,424</span> │\n",
       "├─────────────────────────────────┼────────────────────────┼───────────────┤\n",
       "│ dropout_22 (<span style=\"color: #0087ff; text-decoration-color: #0087ff\">Dropout</span>)            │ (<span style=\"color: #00d7ff; text-decoration-color: #00d7ff\">None</span>, <span style=\"color: #00af00; text-decoration-color: #00af00\">128</span>)            │             <span style=\"color: #00af00; text-decoration-color: #00af00\">0</span> │\n",
       "├─────────────────────────────────┼────────────────────────┼───────────────┤\n",
       "│ dense_21 (<span style=\"color: #0087ff; text-decoration-color: #0087ff\">Dense</span>)                │ (<span style=\"color: #00d7ff; text-decoration-color: #00d7ff\">None</span>, <span style=\"color: #00af00; text-decoration-color: #00af00\">32</span>)             │         <span style=\"color: #00af00; text-decoration-color: #00af00\">4,128</span> │\n",
       "├─────────────────────────────────┼────────────────────────┼───────────────┤\n",
       "│ dropout_23 (<span style=\"color: #0087ff; text-decoration-color: #0087ff\">Dropout</span>)            │ (<span style=\"color: #00d7ff; text-decoration-color: #00d7ff\">None</span>, <span style=\"color: #00af00; text-decoration-color: #00af00\">32</span>)             │             <span style=\"color: #00af00; text-decoration-color: #00af00\">0</span> │\n",
       "├─────────────────────────────────┼────────────────────────┼───────────────┤\n",
       "│ dense_22 (<span style=\"color: #0087ff; text-decoration-color: #0087ff\">Dense</span>)                │ (<span style=\"color: #00d7ff; text-decoration-color: #00d7ff\">None</span>, <span style=\"color: #00af00; text-decoration-color: #00af00\">1</span>)              │            <span style=\"color: #00af00; text-decoration-color: #00af00\">33</span> │\n",
       "└─────────────────────────────────┴────────────────────────┴───────────────┘\n",
       "</pre>\n"
      ],
      "text/plain": [
       "┏━━━━━━━━━━━━━━━━━━━━━━━━━━━━━━━━━┳━━━━━━━━━━━━━━━━━━━━━━━━┳━━━━━━━━━━━━━━━┓\n",
       "┃\u001b[1m \u001b[0m\u001b[1mLayer (type)                   \u001b[0m\u001b[1m \u001b[0m┃\u001b[1m \u001b[0m\u001b[1mOutput Shape          \u001b[0m\u001b[1m \u001b[0m┃\u001b[1m \u001b[0m\u001b[1m      Param #\u001b[0m\u001b[1m \u001b[0m┃\n",
       "┡━━━━━━━━━━━━━━━━━━━━━━━━━━━━━━━━━╇━━━━━━━━━━━━━━━━━━━━━━━━╇━━━━━━━━━━━━━━━┩\n",
       "│ bidirectional_1 (\u001b[38;5;33mBidirectional\u001b[0m) │ (\u001b[38;5;45mNone\u001b[0m, \u001b[38;5;34m128\u001b[0m)            │        \u001b[38;5;34m39,424\u001b[0m │\n",
       "├─────────────────────────────────┼────────────────────────┼───────────────┤\n",
       "│ dropout_22 (\u001b[38;5;33mDropout\u001b[0m)            │ (\u001b[38;5;45mNone\u001b[0m, \u001b[38;5;34m128\u001b[0m)            │             \u001b[38;5;34m0\u001b[0m │\n",
       "├─────────────────────────────────┼────────────────────────┼───────────────┤\n",
       "│ dense_21 (\u001b[38;5;33mDense\u001b[0m)                │ (\u001b[38;5;45mNone\u001b[0m, \u001b[38;5;34m32\u001b[0m)             │         \u001b[38;5;34m4,128\u001b[0m │\n",
       "├─────────────────────────────────┼────────────────────────┼───────────────┤\n",
       "│ dropout_23 (\u001b[38;5;33mDropout\u001b[0m)            │ (\u001b[38;5;45mNone\u001b[0m, \u001b[38;5;34m32\u001b[0m)             │             \u001b[38;5;34m0\u001b[0m │\n",
       "├─────────────────────────────────┼────────────────────────┼───────────────┤\n",
       "│ dense_22 (\u001b[38;5;33mDense\u001b[0m)                │ (\u001b[38;5;45mNone\u001b[0m, \u001b[38;5;34m1\u001b[0m)              │            \u001b[38;5;34m33\u001b[0m │\n",
       "└─────────────────────────────────┴────────────────────────┴───────────────┘\n"
      ]
     },
     "metadata": {},
     "output_type": "display_data"
    },
    {
     "data": {
      "text/html": [
       "<pre style=\"white-space:pre;overflow-x:auto;line-height:normal;font-family:Menlo,'DejaVu Sans Mono',consolas,'Courier New',monospace\"><span style=\"font-weight: bold\"> Total params: </span><span style=\"color: #00af00; text-decoration-color: #00af00\">43,585</span> (170.25 KB)\n",
       "</pre>\n"
      ],
      "text/plain": [
       "\u001b[1m Total params: \u001b[0m\u001b[38;5;34m43,585\u001b[0m (170.25 KB)\n"
      ]
     },
     "metadata": {},
     "output_type": "display_data"
    },
    {
     "data": {
      "text/html": [
       "<pre style=\"white-space:pre;overflow-x:auto;line-height:normal;font-family:Menlo,'DejaVu Sans Mono',consolas,'Courier New',monospace\"><span style=\"font-weight: bold\"> Trainable params: </span><span style=\"color: #00af00; text-decoration-color: #00af00\">43,585</span> (170.25 KB)\n",
       "</pre>\n"
      ],
      "text/plain": [
       "\u001b[1m Trainable params: \u001b[0m\u001b[38;5;34m43,585\u001b[0m (170.25 KB)\n"
      ]
     },
     "metadata": {},
     "output_type": "display_data"
    },
    {
     "data": {
      "text/html": [
       "<pre style=\"white-space:pre;overflow-x:auto;line-height:normal;font-family:Menlo,'DejaVu Sans Mono',consolas,'Courier New',monospace\"><span style=\"font-weight: bold\"> Non-trainable params: </span><span style=\"color: #00af00; text-decoration-color: #00af00\">0</span> (0.00 B)\n",
       "</pre>\n"
      ],
      "text/plain": [
       "\u001b[1m Non-trainable params: \u001b[0m\u001b[38;5;34m0\u001b[0m (0.00 B)\n"
      ]
     },
     "metadata": {},
     "output_type": "display_data"
    }
   ],
   "source": [
    "timesteps = X_train.shape[1]\n",
    "n_features = X_train.shape[2] \n",
    "\n",
    "weights_bi_lstm = class_weight.compute_class_weight(\n",
    "    class_weight='balanced',\n",
    "    classes=np.unique(y_train),\n",
    "    y=y_train)\n",
    "class_weight_bi_lstm = dict(enumerate(weights_bi_lstm))\n",
    "\n",
    "model_bi_lstm = Sequential([Bidirectional(LSTM(64), input_shape=(timesteps, n_features)),\n",
    "    Dropout(0.3), Dense(32, activation='relu'), Dropout(0.2), Dense(1, activation='sigmoid')])\n",
    "\n",
    "model_bi_lstm.compile(loss='binary_crossentropy', optimizer='adam', metrics=['accuracy', Recall(name='recall'), AUC(name='auc')])\n",
    "\n",
    "model_bi_lstm.summary()"
   ]
  },
  {
   "cell_type": "markdown",
   "id": "f7eaa041",
   "metadata": {},
   "source": [
    "**Train Bidirectional LSTM Model with Early Stopping**"
   ]
  },
  {
   "cell_type": "code",
   "execution_count": 58,
   "id": "91f00927",
   "metadata": {},
   "outputs": [
    {
     "name": "stdout",
     "output_type": "stream",
     "text": [
      "Epoch 1/15\n",
      "164/164 - 3s - 18ms/step - accuracy: 0.7522 - auc: 0.8198 - loss: 0.5218 - recall: 0.7699 - val_accuracy: 0.7461 - val_auc: 0.8266 - val_loss: 0.5378 - val_recall: 0.8025\n",
      "Epoch 2/15\n",
      "164/164 - 2s - 12ms/step - accuracy: 0.7556 - auc: 0.8342 - loss: 0.5023 - recall: 0.7768 - val_accuracy: 0.7243 - val_auc: 0.8265 - val_loss: 0.5583 - val_recall: 0.8459\n",
      "Epoch 3/15\n",
      "164/164 - 2s - 12ms/step - accuracy: 0.7560 - auc: 0.8372 - loss: 0.4977 - recall: 0.7915 - val_accuracy: 0.7421 - val_auc: 0.8307 - val_loss: 0.5624 - val_recall: 0.8304\n",
      "Epoch 4/15\n",
      "164/164 - 2s - 12ms/step - accuracy: 0.7620 - auc: 0.8388 - loss: 0.4942 - recall: 0.7912 - val_accuracy: 0.7385 - val_auc: 0.8304 - val_loss: 0.5547 - val_recall: 0.8521\n"
     ]
    }
   ],
   "source": [
    "early_stop_bi_lstm = EarlyStopping(monitor='val_loss', patience=3, restore_best_weights=True)\n",
    "\n",
    "history_bi_lstm = model_bi_lstm.fit(X_train, y_train, validation_data=(X_val, y_val),\n",
    "    epochs=15, batch_size=64, class_weight=class_weight_bi_lstm, verbose=2, callbacks=[early_stop_bi_lstm])"
   ]
  },
  {
   "cell_type": "markdown",
   "id": "92ca5581",
   "metadata": {},
   "source": [
    "**Evaluate on validation and test sets (default threshold 0.5)**"
   ]
  },
  {
   "cell_type": "code",
   "execution_count": 59,
   "id": "42948e77",
   "metadata": {},
   "outputs": [
    {
     "name": "stdout",
     "output_type": "stream",
     "text": [
      "\u001b[1m71/71\u001b[0m \u001b[32m━━━━━━━━━━━━━━━━━━━━\u001b[0m\u001b[37m\u001b[0m \u001b[1m0s\u001b[0m 3ms/step\n",
      "\u001b[1m71/71\u001b[0m \u001b[32m━━━━━━━━━━━━━━━━━━━━\u001b[0m\u001b[37m\u001b[0m \u001b[1m0s\u001b[0m 2ms/step\n",
      "Validation Set Classification Report:\n",
      "              precision    recall  f1-score   support\n",
      "\n",
      "           0       0.82      0.70      0.76      1278\n",
      "           1       0.67      0.80      0.73       967\n",
      "\n",
      "    accuracy                           0.75      2245\n",
      "   macro avg       0.75      0.75      0.75      2245\n",
      "weighted avg       0.76      0.75      0.75      2245\n",
      "\n",
      "Validation ROC-AUC Score: 0.8268\n"
     ]
    }
   ],
   "source": [
    "# Validation set predictions\n",
    "y_val_probs_bi_lstm = model_bi_lstm.predict(X_val).flatten()\n",
    "y_val_preds_bi_lstm = (y_val_probs_bi_lstm >= 0.5).astype(int)\n",
    "\n",
    "y_test_probs_bi_lstm = model_bi_lstm.predict(X_test).flatten()\n",
    "y_test_preds_bi_lstm = (y_test_probs_bi_lstm >= 0.5).astype(int)\n",
    "\n",
    "print(\"Validation Set Classification Report:\")\n",
    "print(classification_report(y_val, y_val_preds_bi_lstm))\n",
    "print(f\"Validation ROC-AUC Score: {roc_auc_score(y_val, y_val_probs_bi_lstm):.4f}\")"
   ]
  },
  {
   "cell_type": "markdown",
   "id": "0cc71f59",
   "metadata": {},
   "source": [
    "**Evaluate on validation and test sets (after tuning) on Bidirectional LSTM model**"
   ]
  },
  {
   "cell_type": "code",
   "execution_count": 60,
   "id": "433d855b",
   "metadata": {},
   "outputs": [
    {
     "name": "stdout",
     "output_type": "stream",
     "text": [
      "Chosen threshold (Bi-LSTM): 0.47\n",
      "Recall (Bi-LSTM): 0.8211\n",
      "F1-score (Bi-LSTM): 0.7328\n",
      "Precision (Bi-LSTM): 0.6617\n",
      "Validation Set Classification Report (Bi-LSTM):\n",
      "              precision    recall  f1-score   support\n",
      "\n",
      "           0       0.83      0.68      0.75      1278\n",
      "           1       0.66      0.82      0.73       967\n",
      "\n",
      "    accuracy                           0.74      2245\n",
      "   macro avg       0.75      0.75      0.74      2245\n",
      "weighted avg       0.76      0.74      0.74      2245\n",
      "\n",
      "Test Set Classification Report (Bi-LSTM):\n",
      "              precision    recall  f1-score   support\n",
      "\n",
      "           0       0.88      0.63      0.73      1436\n",
      "           1       0.56      0.85      0.68       810\n",
      "\n",
      "    accuracy                           0.71      2246\n",
      "   macro avg       0.72      0.74      0.70      2246\n",
      "weighted avg       0.77      0.71      0.71      2246\n",
      "\n",
      "Test ROC-AUC Score (Bi-LSTM): 0.7937\n"
     ]
    }
   ],
   "source": [
    "thresholds = np.arange(0.40, 0.61, 0.01)\n",
    "best_thresh_bi_lstm = 0.5\n",
    "best_f1_bi_lstm = 0\n",
    "best_recall_bi_lstm = 0\n",
    "best_precision_bi_lstm = 0\n",
    "\n",
    "for t in thresholds:\n",
    "    preds_bi_lstm = (y_val_probs_bi_lstm >= t).astype(int)\n",
    "    recall = recall_score(y_val, preds_bi_lstm)\n",
    "    f1 = f1_score(y_val, preds_bi_lstm)\n",
    "    precision = precision_score(y_val, preds_bi_lstm)\n",
    "\n",
    "    if recall >= 0.80 and f1 > best_f1_bi_lstm:\n",
    "        best_f1_bi_lstm = f1\n",
    "        best_thresh_bi_lstm = t\n",
    "        best_recall_bi_lstm = recall\n",
    "        best_precision_bi_lstm = precision\n",
    "\n",
    "print(f\"Chosen threshold (Bi-LSTM): {best_thresh_bi_lstm:.2f}\")\n",
    "print(f\"Recall (Bi-LSTM): {best_recall_bi_lstm:.4f}\")\n",
    "print(f\"F1-score (Bi-LSTM): {best_f1_bi_lstm:.4f}\")\n",
    "print(f\"Precision (Bi-LSTM): {best_precision_bi_lstm:.4f}\")\n",
    "\n",
    "final_preds_val_bi_lstm = (y_val_probs_bi_lstm >= best_thresh_bi_lstm).astype(int)\n",
    "print(\"Validation Set Classification Report (Bi-LSTM):\")\n",
    "print(classification_report(y_val, final_preds_val_bi_lstm))\n",
    "\n",
    "# Apply chosen threshold on test set\n",
    "final_preds_test_bi_lstm = (y_test_probs_bi_lstm >= best_thresh_bi_lstm).astype(int)\n",
    "print(\"Test Set Classification Report (Bi-LSTM):\")\n",
    "print(classification_report(y_test, final_preds_test_bi_lstm))\n",
    "print(f\"Test ROC-AUC Score (Bi-LSTM): {roc_auc_score(y_test, y_test_probs_bi_lstm):.4f}\")"
   ]
  },
  {
   "cell_type": "markdown",
   "id": "62e7ebe5",
   "metadata": {},
   "source": [
    "## **Model #4: Stacked LSTM**"
   ]
  },
  {
   "cell_type": "markdown",
   "id": "c6910201",
   "metadata": {},
   "source": [
    "**Building the Stacked LSTM Model**"
   ]
  },
  {
   "cell_type": "code",
   "execution_count": 61,
   "id": "0d050a23",
   "metadata": {},
   "outputs": [
    {
     "name": "stderr",
     "output_type": "stream",
     "text": [
      "/Users/marielle/anaconda3/lib/python3.11/site-packages/keras/src/layers/rnn/rnn.py:204: UserWarning: Do not pass an `input_shape`/`input_dim` argument to a layer. When using Sequential models, prefer using an `Input(shape)` object as the first layer in the model instead.\n",
      "  super().__init__(**kwargs)\n"
     ]
    },
    {
     "data": {
      "text/html": [
       "<pre style=\"white-space:pre;overflow-x:auto;line-height:normal;font-family:Menlo,'DejaVu Sans Mono',consolas,'Courier New',monospace\"><span style=\"font-weight: bold\">Model: \"sequential_10\"</span>\n",
       "</pre>\n"
      ],
      "text/plain": [
       "\u001b[1mModel: \"sequential_10\"\u001b[0m\n"
      ]
     },
     "metadata": {},
     "output_type": "display_data"
    },
    {
     "data": {
      "text/html": [
       "<pre style=\"white-space:pre;overflow-x:auto;line-height:normal;font-family:Menlo,'DejaVu Sans Mono',consolas,'Courier New',monospace\">┏━━━━━━━━━━━━━━━━━━━━━━━━━━━━━━━━━┳━━━━━━━━━━━━━━━━━━━━━━━━┳━━━━━━━━━━━━━━━┓\n",
       "┃<span style=\"font-weight: bold\"> Layer (type)                    </span>┃<span style=\"font-weight: bold\"> Output Shape           </span>┃<span style=\"font-weight: bold\">       Param # </span>┃\n",
       "┡━━━━━━━━━━━━━━━━━━━━━━━━━━━━━━━━━╇━━━━━━━━━━━━━━━━━━━━━━━━╇━━━━━━━━━━━━━━━┩\n",
       "│ lstm_7 (<span style=\"color: #0087ff; text-decoration-color: #0087ff\">LSTM</span>)                   │ (<span style=\"color: #00d7ff; text-decoration-color: #00d7ff\">None</span>, <span style=\"color: #00af00; text-decoration-color: #00af00\">21</span>, <span style=\"color: #00af00; text-decoration-color: #00af00\">64</span>)         │        <span style=\"color: #00af00; text-decoration-color: #00af00\">19,712</span> │\n",
       "├─────────────────────────────────┼────────────────────────┼───────────────┤\n",
       "│ dropout_24 (<span style=\"color: #0087ff; text-decoration-color: #0087ff\">Dropout</span>)            │ (<span style=\"color: #00d7ff; text-decoration-color: #00d7ff\">None</span>, <span style=\"color: #00af00; text-decoration-color: #00af00\">21</span>, <span style=\"color: #00af00; text-decoration-color: #00af00\">64</span>)         │             <span style=\"color: #00af00; text-decoration-color: #00af00\">0</span> │\n",
       "├─────────────────────────────────┼────────────────────────┼───────────────┤\n",
       "│ lstm_8 (<span style=\"color: #0087ff; text-decoration-color: #0087ff\">LSTM</span>)                   │ (<span style=\"color: #00d7ff; text-decoration-color: #00d7ff\">None</span>, <span style=\"color: #00af00; text-decoration-color: #00af00\">32</span>)             │        <span style=\"color: #00af00; text-decoration-color: #00af00\">12,416</span> │\n",
       "├─────────────────────────────────┼────────────────────────┼───────────────┤\n",
       "│ dropout_25 (<span style=\"color: #0087ff; text-decoration-color: #0087ff\">Dropout</span>)            │ (<span style=\"color: #00d7ff; text-decoration-color: #00d7ff\">None</span>, <span style=\"color: #00af00; text-decoration-color: #00af00\">32</span>)             │             <span style=\"color: #00af00; text-decoration-color: #00af00\">0</span> │\n",
       "├─────────────────────────────────┼────────────────────────┼───────────────┤\n",
       "│ dense_23 (<span style=\"color: #0087ff; text-decoration-color: #0087ff\">Dense</span>)                │ (<span style=\"color: #00d7ff; text-decoration-color: #00d7ff\">None</span>, <span style=\"color: #00af00; text-decoration-color: #00af00\">16</span>)             │           <span style=\"color: #00af00; text-decoration-color: #00af00\">528</span> │\n",
       "├─────────────────────────────────┼────────────────────────┼───────────────┤\n",
       "│ dense_24 (<span style=\"color: #0087ff; text-decoration-color: #0087ff\">Dense</span>)                │ (<span style=\"color: #00d7ff; text-decoration-color: #00d7ff\">None</span>, <span style=\"color: #00af00; text-decoration-color: #00af00\">1</span>)              │            <span style=\"color: #00af00; text-decoration-color: #00af00\">17</span> │\n",
       "└─────────────────────────────────┴────────────────────────┴───────────────┘\n",
       "</pre>\n"
      ],
      "text/plain": [
       "┏━━━━━━━━━━━━━━━━━━━━━━━━━━━━━━━━━┳━━━━━━━━━━━━━━━━━━━━━━━━┳━━━━━━━━━━━━━━━┓\n",
       "┃\u001b[1m \u001b[0m\u001b[1mLayer (type)                   \u001b[0m\u001b[1m \u001b[0m┃\u001b[1m \u001b[0m\u001b[1mOutput Shape          \u001b[0m\u001b[1m \u001b[0m┃\u001b[1m \u001b[0m\u001b[1m      Param #\u001b[0m\u001b[1m \u001b[0m┃\n",
       "┡━━━━━━━━━━━━━━━━━━━━━━━━━━━━━━━━━╇━━━━━━━━━━━━━━━━━━━━━━━━╇━━━━━━━━━━━━━━━┩\n",
       "│ lstm_7 (\u001b[38;5;33mLSTM\u001b[0m)                   │ (\u001b[38;5;45mNone\u001b[0m, \u001b[38;5;34m21\u001b[0m, \u001b[38;5;34m64\u001b[0m)         │        \u001b[38;5;34m19,712\u001b[0m │\n",
       "├─────────────────────────────────┼────────────────────────┼───────────────┤\n",
       "│ dropout_24 (\u001b[38;5;33mDropout\u001b[0m)            │ (\u001b[38;5;45mNone\u001b[0m, \u001b[38;5;34m21\u001b[0m, \u001b[38;5;34m64\u001b[0m)         │             \u001b[38;5;34m0\u001b[0m │\n",
       "├─────────────────────────────────┼────────────────────────┼───────────────┤\n",
       "│ lstm_8 (\u001b[38;5;33mLSTM\u001b[0m)                   │ (\u001b[38;5;45mNone\u001b[0m, \u001b[38;5;34m32\u001b[0m)             │        \u001b[38;5;34m12,416\u001b[0m │\n",
       "├─────────────────────────────────┼────────────────────────┼───────────────┤\n",
       "│ dropout_25 (\u001b[38;5;33mDropout\u001b[0m)            │ (\u001b[38;5;45mNone\u001b[0m, \u001b[38;5;34m32\u001b[0m)             │             \u001b[38;5;34m0\u001b[0m │\n",
       "├─────────────────────────────────┼────────────────────────┼───────────────┤\n",
       "│ dense_23 (\u001b[38;5;33mDense\u001b[0m)                │ (\u001b[38;5;45mNone\u001b[0m, \u001b[38;5;34m16\u001b[0m)             │           \u001b[38;5;34m528\u001b[0m │\n",
       "├─────────────────────────────────┼────────────────────────┼───────────────┤\n",
       "│ dense_24 (\u001b[38;5;33mDense\u001b[0m)                │ (\u001b[38;5;45mNone\u001b[0m, \u001b[38;5;34m1\u001b[0m)              │            \u001b[38;5;34m17\u001b[0m │\n",
       "└─────────────────────────────────┴────────────────────────┴───────────────┘\n"
      ]
     },
     "metadata": {},
     "output_type": "display_data"
    },
    {
     "data": {
      "text/html": [
       "<pre style=\"white-space:pre;overflow-x:auto;line-height:normal;font-family:Menlo,'DejaVu Sans Mono',consolas,'Courier New',monospace\"><span style=\"font-weight: bold\"> Total params: </span><span style=\"color: #00af00; text-decoration-color: #00af00\">32,673</span> (127.63 KB)\n",
       "</pre>\n"
      ],
      "text/plain": [
       "\u001b[1m Total params: \u001b[0m\u001b[38;5;34m32,673\u001b[0m (127.63 KB)\n"
      ]
     },
     "metadata": {},
     "output_type": "display_data"
    },
    {
     "data": {
      "text/html": [
       "<pre style=\"white-space:pre;overflow-x:auto;line-height:normal;font-family:Menlo,'DejaVu Sans Mono',consolas,'Courier New',monospace\"><span style=\"font-weight: bold\"> Trainable params: </span><span style=\"color: #00af00; text-decoration-color: #00af00\">32,673</span> (127.63 KB)\n",
       "</pre>\n"
      ],
      "text/plain": [
       "\u001b[1m Trainable params: \u001b[0m\u001b[38;5;34m32,673\u001b[0m (127.63 KB)\n"
      ]
     },
     "metadata": {},
     "output_type": "display_data"
    },
    {
     "data": {
      "text/html": [
       "<pre style=\"white-space:pre;overflow-x:auto;line-height:normal;font-family:Menlo,'DejaVu Sans Mono',consolas,'Courier New',monospace\"><span style=\"font-weight: bold\"> Non-trainable params: </span><span style=\"color: #00af00; text-decoration-color: #00af00\">0</span> (0.00 B)\n",
       "</pre>\n"
      ],
      "text/plain": [
       "\u001b[1m Non-trainable params: \u001b[0m\u001b[38;5;34m0\u001b[0m (0.00 B)\n"
      ]
     },
     "metadata": {},
     "output_type": "display_data"
    }
   ],
   "source": [
    "# Define input shape\n",
    "timesteps = X_train.shape[1]\n",
    "n_features = X_train.shape[2] \n",
    "\n",
    "# Compute class weights\n",
    "weights_stacked_lstm = class_weight.compute_class_weight(\n",
    "    class_weight='balanced',\n",
    "    classes=np.unique(y_train),\n",
    "    y=y_train)\n",
    "class_weight_stacked_lstm = dict(enumerate(weights_stacked_lstm))\n",
    "\n",
    "# Build Stacked LSTM Model\n",
    "model_stacked_lstm = Sequential([\n",
    "    LSTM(64, return_sequences=True, input_shape=(timesteps, n_features)),  # return sequences for stacking\n",
    "    Dropout(0.3), LSTM(32),  # final LSTM layer\n",
    "    Dropout(0.2), Dense(16, activation='relu'),\n",
    "    Dense(1, activation='sigmoid')  # binary classification\n",
    "])\n",
    "\n",
    "# Compile the model\n",
    "model_stacked_lstm.compile(loss='binary_crossentropy', optimizer='adam',\n",
    "    metrics=['accuracy', Recall(name='recall'), AUC(name='auc')])\n",
    "\n",
    "model_stacked_lstm.summary()"
   ]
  },
  {
   "cell_type": "markdown",
   "id": "441ac579",
   "metadata": {},
   "source": [
    "**Training Stacked LSTM Model**"
   ]
  },
  {
   "cell_type": "code",
   "execution_count": 62,
   "id": "5d11f9f1",
   "metadata": {},
   "outputs": [
    {
     "name": "stdout",
     "output_type": "stream",
     "text": [
      "Epoch 1/15\n",
      "164/164 - 4s - 22ms/step - accuracy: 0.7442 - auc: 0.8164 - loss: 0.5241 - recall: 0.7774 - val_accuracy: 0.7296 - val_auc: 0.8259 - val_loss: 0.5527 - val_recall: 0.8397\n",
      "Epoch 2/15\n",
      "164/164 - 2s - 11ms/step - accuracy: 0.7556 - auc: 0.8328 - loss: 0.5050 - recall: 0.7793 - val_accuracy: 0.7198 - val_auc: 0.8281 - val_loss: 0.5826 - val_recall: 0.8521\n",
      "Epoch 3/15\n",
      "164/164 - 2s - 10ms/step - accuracy: 0.7560 - auc: 0.8386 - loss: 0.4956 - recall: 0.7884 - val_accuracy: 0.7310 - val_auc: 0.8250 - val_loss: 0.5531 - val_recall: 0.8273\n",
      "Epoch 4/15\n",
      "164/164 - 2s - 10ms/step - accuracy: 0.7574 - auc: 0.8370 - loss: 0.4974 - recall: 0.7959 - val_accuracy: 0.7385 - val_auc: 0.8310 - val_loss: 0.5694 - val_recall: 0.8407\n"
     ]
    }
   ],
   "source": [
    "early_stop_stacked_lstm = EarlyStopping(monitor='val_loss', patience=3, restore_best_weights=True)\n",
    "\n",
    "history_stacked_lstm = model_stacked_lstm.fit(X_train, y_train, validation_data=(X_val, y_val),\n",
    "    epochs=15, batch_size=64, class_weight=class_weight_stacked_lstm,\n",
    "    verbose=2, callbacks=[early_stop_stacked_lstm])"
   ]
  },
  {
   "cell_type": "markdown",
   "id": "530a4990",
   "metadata": {},
   "source": [
    "**Evaluate on validation and test sets (default threshold = 0.5)**"
   ]
  },
  {
   "cell_type": "code",
   "execution_count": 63,
   "id": "f8a3008d",
   "metadata": {},
   "outputs": [
    {
     "name": "stdout",
     "output_type": "stream",
     "text": [
      "\u001b[1m71/71\u001b[0m \u001b[32m━━━━━━━━━━━━━━━━━━━━\u001b[0m\u001b[37m\u001b[0m \u001b[1m0s\u001b[0m 3ms/step\n",
      "\u001b[1m71/71\u001b[0m \u001b[32m━━━━━━━━━━━━━━━━━━━━\u001b[0m\u001b[37m\u001b[0m \u001b[1m0s\u001b[0m 2ms/step\n",
      "Validation Classification Report (Stacked LSTM, Threshold=0.5):\n",
      "              precision    recall  f1-score   support\n",
      "\n",
      "           0       0.84      0.65      0.73      1278\n",
      "           1       0.64      0.84      0.73       967\n",
      "\n",
      "    accuracy                           0.73      2245\n",
      "   macro avg       0.74      0.74      0.73      2245\n",
      "weighted avg       0.76      0.73      0.73      2245\n",
      "\n",
      "Validation ROC-AUC Score (Stacked LSTM): 0.8266\n"
     ]
    }
   ],
   "source": [
    "# Evaluate before threshold tuning on validation set\n",
    "y_val_probs_stacked_lstm = model_stacked_lstm.predict(X_val).flatten()\n",
    "y_val_preds_stacked_lstm = (y_val_probs_stacked_lstm >= 0.5).astype(int)  # default threshold 0.5\n",
    "\n",
    "y_test_probs_stacked_lstm = model_stacked_lstm.predict(X_test).flatten()\n",
    "y_test_preds_stacked_lstm = (y_test_probs_stacked_lstm >= 0.5).astype(int) \n",
    "\n",
    "print(\"Validation Classification Report (Stacked LSTM, Threshold=0.5):\")\n",
    "print(classification_report(y_val, y_val_preds_stacked_lstm))\n",
    "print(f\"Validation ROC-AUC Score (Stacked LSTM): {roc_auc_score(y_val, y_val_probs_stacked_lstm):.4f}\")"
   ]
  },
  {
   "cell_type": "markdown",
   "id": "8abb5911",
   "metadata": {},
   "source": [
    "**Evaluate on validation and test sets (after tuning) on Stacked LSTM model**"
   ]
  },
  {
   "cell_type": "code",
   "execution_count": 64,
   "id": "7387bbc3",
   "metadata": {},
   "outputs": [
    {
     "name": "stdout",
     "output_type": "stream",
     "text": [
      "Chosen threshold (Stacked LSTM): 0.58\n",
      "Recall (Stacked LSTM): 0.8097\n",
      "F1-score (Stacked LSTM): 0.7362\n",
      "Precision (Stacked LSTM): 0.6750\n",
      "Validation Classification Report (Stacked LSTM, After Tuning):\n",
      "              precision    recall  f1-score   support\n",
      "\n",
      "           0       0.83      0.71      0.76      1278\n",
      "           1       0.68      0.81      0.74       967\n",
      "\n",
      "    accuracy                           0.75      2245\n",
      "   macro avg       0.75      0.76      0.75      2245\n",
      "weighted avg       0.76      0.75      0.75      2245\n",
      "\n",
      "Validation ROC-AUC Score (Stacked LSTM): 0.8266\n",
      "Test Set Classification Report (Stacked LSTM, After Tuning):\n",
      "              precision    recall  f1-score   support\n",
      "\n",
      "           0       0.88      0.63      0.73      1436\n",
      "           1       0.56      0.84      0.67       810\n",
      "\n",
      "    accuracy                           0.70      2246\n",
      "   macro avg       0.72      0.73      0.70      2246\n",
      "weighted avg       0.76      0.70      0.71      2246\n",
      "\n",
      "Test Set ROC-AUC Score (Stacked LSTM): 0.7899\n"
     ]
    }
   ],
   "source": [
    "thresholds = np.arange(0.40, 0.61, 0.01)\n",
    "best_thresh_stacked_lstm = 0.5\n",
    "best_f1_stacked_lstm = 0\n",
    "best_recall_stacked_lstm = 0\n",
    "best_precision_stacked_lstm = 0\n",
    "\n",
    "for t in thresholds:\n",
    "    preds_stacked_lstm = (y_val_probs_stacked_lstm >= t).astype(int)\n",
    "    recall = recall_score(y_val, preds_stacked_lstm)\n",
    "    f1 = f1_score(y_val, preds_stacked_lstm)\n",
    "    precision = precision_score(y_val, preds_stacked_lstm)\n",
    "\n",
    "    if recall >= 0.80 and f1 > best_f1_stacked_lstm:\n",
    "        best_f1_stacked_lstm = f1\n",
    "        best_thresh_stacked_lstm = t\n",
    "        best_recall_stacked_lstm = recall\n",
    "        best_precision_stacked_lstm = precision\n",
    "\n",
    "print(f\"Chosen threshold (Stacked LSTM): {best_thresh_stacked_lstm:.2f}\")\n",
    "print(f\"Recall (Stacked LSTM): {best_recall_stacked_lstm:.4f}\")\n",
    "print(f\"F1-score (Stacked LSTM): {best_f1_stacked_lstm:.4f}\")\n",
    "print(f\"Precision (Stacked LSTM): {best_precision_stacked_lstm:.4f}\")\n",
    "\n",
    "# Validation set with tuned threshold\n",
    "final_preds_val_stacked_lstm = (y_val_probs_stacked_lstm >= best_thresh_stacked_lstm).astype(int)\n",
    "\n",
    "print(\"Validation Classification Report (Stacked LSTM, After Tuning):\")\n",
    "print(classification_report(y_val, final_preds_val_stacked_lstm))\n",
    "print(f\"Validation ROC-AUC Score (Stacked LSTM): {roc_auc_score(y_val, y_val_probs_stacked_lstm):.4f}\")\n",
    "\n",
    "# Test set with tuned threshold\n",
    "final_preds_test_stacked_lstm = (y_test_probs_stacked_lstm >= best_thresh_stacked_lstm).astype(int)\n",
    "# Predict on test set with tuned threshold\n",
    "\n",
    "print(\"Test Set Classification Report (Stacked LSTM, After Tuning):\")\n",
    "print(classification_report(y_test, final_preds_test_stacked_lstm))\n",
    "print(f\"Test Set ROC-AUC Score (Stacked LSTM): {roc_auc_score(y_test, y_test_probs_stacked_lstm):.4f}\")"
   ]
  },
  {
   "cell_type": "markdown",
   "id": "9754f0a5",
   "metadata": {},
   "source": [
    "## **Model #5: CNN+LSTM**"
   ]
  },
  {
   "cell_type": "markdown",
   "id": "0bbf3b9b",
   "metadata": {},
   "source": [
    "**Building the CNN+LSTM Model**"
   ]
  },
  {
   "cell_type": "code",
   "execution_count": 7,
   "id": "704224de",
   "metadata": {},
   "outputs": [
    {
     "name": "stderr",
     "output_type": "stream",
     "text": [
      "/Users/marielle/anaconda3/lib/python3.11/site-packages/keras/src/layers/convolutional/base_conv.py:107: UserWarning: Do not pass an `input_shape`/`input_dim` argument to a layer. When using Sequential models, prefer using an `Input(shape)` object as the first layer in the model instead.\n",
      "  super().__init__(activity_regularizer=activity_regularizer, **kwargs)\n"
     ]
    },
    {
     "data": {
      "text/html": [
       "<pre style=\"white-space:pre;overflow-x:auto;line-height:normal;font-family:Menlo,'DejaVu Sans Mono',consolas,'Courier New',monospace\"><span style=\"font-weight: bold\">Model: \"sequential\"</span>\n",
       "</pre>\n"
      ],
      "text/plain": [
       "\u001b[1mModel: \"sequential\"\u001b[0m\n"
      ]
     },
     "metadata": {},
     "output_type": "display_data"
    },
    {
     "data": {
      "text/html": [
       "<pre style=\"white-space:pre;overflow-x:auto;line-height:normal;font-family:Menlo,'DejaVu Sans Mono',consolas,'Courier New',monospace\">┏━━━━━━━━━━━━━━━━━━━━━━━━━━━━━━━━━┳━━━━━━━━━━━━━━━━━━━━━━━━┳━━━━━━━━━━━━━━━┓\n",
       "┃<span style=\"font-weight: bold\"> Layer (type)                    </span>┃<span style=\"font-weight: bold\"> Output Shape           </span>┃<span style=\"font-weight: bold\">       Param # </span>┃\n",
       "┡━━━━━━━━━━━━━━━━━━━━━━━━━━━━━━━━━╇━━━━━━━━━━━━━━━━━━━━━━━━╇━━━━━━━━━━━━━━━┩\n",
       "│ conv1d (<span style=\"color: #0087ff; text-decoration-color: #0087ff\">Conv1D</span>)                 │ (<span style=\"color: #00d7ff; text-decoration-color: #00d7ff\">None</span>, <span style=\"color: #00af00; text-decoration-color: #00af00\">19</span>, <span style=\"color: #00af00; text-decoration-color: #00af00\">64</span>)         │         <span style=\"color: #00af00; text-decoration-color: #00af00\">2,368</span> │\n",
       "├─────────────────────────────────┼────────────────────────┼───────────────┤\n",
       "│ max_pooling1d (<span style=\"color: #0087ff; text-decoration-color: #0087ff\">MaxPooling1D</span>)    │ (<span style=\"color: #00d7ff; text-decoration-color: #00d7ff\">None</span>, <span style=\"color: #00af00; text-decoration-color: #00af00\">9</span>, <span style=\"color: #00af00; text-decoration-color: #00af00\">64</span>)          │             <span style=\"color: #00af00; text-decoration-color: #00af00\">0</span> │\n",
       "├─────────────────────────────────┼────────────────────────┼───────────────┤\n",
       "│ lstm (<span style=\"color: #0087ff; text-decoration-color: #0087ff\">LSTM</span>)                     │ (<span style=\"color: #00d7ff; text-decoration-color: #00d7ff\">None</span>, <span style=\"color: #00af00; text-decoration-color: #00af00\">64</span>)             │        <span style=\"color: #00af00; text-decoration-color: #00af00\">33,024</span> │\n",
       "├─────────────────────────────────┼────────────────────────┼───────────────┤\n",
       "│ dropout (<span style=\"color: #0087ff; text-decoration-color: #0087ff\">Dropout</span>)               │ (<span style=\"color: #00d7ff; text-decoration-color: #00d7ff\">None</span>, <span style=\"color: #00af00; text-decoration-color: #00af00\">64</span>)             │             <span style=\"color: #00af00; text-decoration-color: #00af00\">0</span> │\n",
       "├─────────────────────────────────┼────────────────────────┼───────────────┤\n",
       "│ dense (<span style=\"color: #0087ff; text-decoration-color: #0087ff\">Dense</span>)                   │ (<span style=\"color: #00d7ff; text-decoration-color: #00d7ff\">None</span>, <span style=\"color: #00af00; text-decoration-color: #00af00\">32</span>)             │         <span style=\"color: #00af00; text-decoration-color: #00af00\">2,080</span> │\n",
       "├─────────────────────────────────┼────────────────────────┼───────────────┤\n",
       "│ dropout_1 (<span style=\"color: #0087ff; text-decoration-color: #0087ff\">Dropout</span>)             │ (<span style=\"color: #00d7ff; text-decoration-color: #00d7ff\">None</span>, <span style=\"color: #00af00; text-decoration-color: #00af00\">32</span>)             │             <span style=\"color: #00af00; text-decoration-color: #00af00\">0</span> │\n",
       "├─────────────────────────────────┼────────────────────────┼───────────────┤\n",
       "│ dense_1 (<span style=\"color: #0087ff; text-decoration-color: #0087ff\">Dense</span>)                 │ (<span style=\"color: #00d7ff; text-decoration-color: #00d7ff\">None</span>, <span style=\"color: #00af00; text-decoration-color: #00af00\">1</span>)              │            <span style=\"color: #00af00; text-decoration-color: #00af00\">33</span> │\n",
       "└─────────────────────────────────┴────────────────────────┴───────────────┘\n",
       "</pre>\n"
      ],
      "text/plain": [
       "┏━━━━━━━━━━━━━━━━━━━━━━━━━━━━━━━━━┳━━━━━━━━━━━━━━━━━━━━━━━━┳━━━━━━━━━━━━━━━┓\n",
       "┃\u001b[1m \u001b[0m\u001b[1mLayer (type)                   \u001b[0m\u001b[1m \u001b[0m┃\u001b[1m \u001b[0m\u001b[1mOutput Shape          \u001b[0m\u001b[1m \u001b[0m┃\u001b[1m \u001b[0m\u001b[1m      Param #\u001b[0m\u001b[1m \u001b[0m┃\n",
       "┡━━━━━━━━━━━━━━━━━━━━━━━━━━━━━━━━━╇━━━━━━━━━━━━━━━━━━━━━━━━╇━━━━━━━━━━━━━━━┩\n",
       "│ conv1d (\u001b[38;5;33mConv1D\u001b[0m)                 │ (\u001b[38;5;45mNone\u001b[0m, \u001b[38;5;34m19\u001b[0m, \u001b[38;5;34m64\u001b[0m)         │         \u001b[38;5;34m2,368\u001b[0m │\n",
       "├─────────────────────────────────┼────────────────────────┼───────────────┤\n",
       "│ max_pooling1d (\u001b[38;5;33mMaxPooling1D\u001b[0m)    │ (\u001b[38;5;45mNone\u001b[0m, \u001b[38;5;34m9\u001b[0m, \u001b[38;5;34m64\u001b[0m)          │             \u001b[38;5;34m0\u001b[0m │\n",
       "├─────────────────────────────────┼────────────────────────┼───────────────┤\n",
       "│ lstm (\u001b[38;5;33mLSTM\u001b[0m)                     │ (\u001b[38;5;45mNone\u001b[0m, \u001b[38;5;34m64\u001b[0m)             │        \u001b[38;5;34m33,024\u001b[0m │\n",
       "├─────────────────────────────────┼────────────────────────┼───────────────┤\n",
       "│ dropout (\u001b[38;5;33mDropout\u001b[0m)               │ (\u001b[38;5;45mNone\u001b[0m, \u001b[38;5;34m64\u001b[0m)             │             \u001b[38;5;34m0\u001b[0m │\n",
       "├─────────────────────────────────┼────────────────────────┼───────────────┤\n",
       "│ dense (\u001b[38;5;33mDense\u001b[0m)                   │ (\u001b[38;5;45mNone\u001b[0m, \u001b[38;5;34m32\u001b[0m)             │         \u001b[38;5;34m2,080\u001b[0m │\n",
       "├─────────────────────────────────┼────────────────────────┼───────────────┤\n",
       "│ dropout_1 (\u001b[38;5;33mDropout\u001b[0m)             │ (\u001b[38;5;45mNone\u001b[0m, \u001b[38;5;34m32\u001b[0m)             │             \u001b[38;5;34m0\u001b[0m │\n",
       "├─────────────────────────────────┼────────────────────────┼───────────────┤\n",
       "│ dense_1 (\u001b[38;5;33mDense\u001b[0m)                 │ (\u001b[38;5;45mNone\u001b[0m, \u001b[38;5;34m1\u001b[0m)              │            \u001b[38;5;34m33\u001b[0m │\n",
       "└─────────────────────────────────┴────────────────────────┴───────────────┘\n"
      ]
     },
     "metadata": {},
     "output_type": "display_data"
    },
    {
     "data": {
      "text/html": [
       "<pre style=\"white-space:pre;overflow-x:auto;line-height:normal;font-family:Menlo,'DejaVu Sans Mono',consolas,'Courier New',monospace\"><span style=\"font-weight: bold\"> Total params: </span><span style=\"color: #00af00; text-decoration-color: #00af00\">37,505</span> (146.50 KB)\n",
       "</pre>\n"
      ],
      "text/plain": [
       "\u001b[1m Total params: \u001b[0m\u001b[38;5;34m37,505\u001b[0m (146.50 KB)\n"
      ]
     },
     "metadata": {},
     "output_type": "display_data"
    },
    {
     "data": {
      "text/html": [
       "<pre style=\"white-space:pre;overflow-x:auto;line-height:normal;font-family:Menlo,'DejaVu Sans Mono',consolas,'Courier New',monospace\"><span style=\"font-weight: bold\"> Trainable params: </span><span style=\"color: #00af00; text-decoration-color: #00af00\">37,505</span> (146.50 KB)\n",
       "</pre>\n"
      ],
      "text/plain": [
       "\u001b[1m Trainable params: \u001b[0m\u001b[38;5;34m37,505\u001b[0m (146.50 KB)\n"
      ]
     },
     "metadata": {},
     "output_type": "display_data"
    },
    {
     "data": {
      "text/html": [
       "<pre style=\"white-space:pre;overflow-x:auto;line-height:normal;font-family:Menlo,'DejaVu Sans Mono',consolas,'Courier New',monospace\"><span style=\"font-weight: bold\"> Non-trainable params: </span><span style=\"color: #00af00; text-decoration-color: #00af00\">0</span> (0.00 B)\n",
       "</pre>\n"
      ],
      "text/plain": [
       "\u001b[1m Non-trainable params: \u001b[0m\u001b[38;5;34m0\u001b[0m (0.00 B)\n"
      ]
     },
     "metadata": {},
     "output_type": "display_data"
    }
   ],
   "source": [
    "# Input shapes\n",
    "timesteps = X_train.shape[1]  # 21\n",
    "n_features = X_train.shape[2]  # 12\n",
    "\n",
    "# Compute class weights\n",
    "weights_cnn_lstm = class_weight.compute_class_weight(\n",
    "    class_weight='balanced',\n",
    "    classes=np.unique(y_train),\n",
    "    y=y_train\n",
    ")\n",
    "class_weight_cnn_lstm = dict(enumerate(weights_cnn_lstm))\n",
    "\n",
    "# Build CNN + LSTM model\n",
    "model_cnn_lstm = Sequential([\n",
    "    Conv1D(filters=64, kernel_size=3, activation='relu', input_shape=(timesteps, n_features)),\n",
    "    MaxPooling1D(pool_size=2), LSTM(64), Dropout(0.3), Dense(32, activation='relu'),\n",
    "    Dropout(0.2), Dense(1, activation='sigmoid')])\n",
    "\n",
    "# Compile the model\n",
    "model_cnn_lstm.compile(loss='binary_crossentropy', optimizer='adam',\n",
    "    metrics=['accuracy', Recall(name='recall'), AUC(name='auc')])\n",
    "\n",
    "model_cnn_lstm.summary()"
   ]
  },
  {
   "cell_type": "markdown",
   "id": "d4b5f299",
   "metadata": {},
   "source": [
    "**Training CNN+LSTM Model**"
   ]
  },
  {
   "cell_type": "code",
   "execution_count": 8,
   "id": "229b42f8",
   "metadata": {},
   "outputs": [
    {
     "name": "stdout",
     "output_type": "stream",
     "text": [
      "Epoch 1/15\n",
      "164/164 - 2s - 11ms/step - accuracy: 0.7458 - auc: 0.8159 - loss: 0.5274 - recall: 0.7865 - val_accuracy: 0.7265 - val_auc: 0.8267 - val_loss: 0.5609 - val_recall: 0.8625\n",
      "Epoch 2/15\n",
      "164/164 - 1s - 5ms/step - accuracy: 0.7586 - auc: 0.8303 - loss: 0.5077 - recall: 0.7749 - val_accuracy: 0.7457 - val_auc: 0.8286 - val_loss: 0.5333 - val_recall: 0.8139\n",
      "Epoch 3/15\n",
      "164/164 - 1s - 5ms/step - accuracy: 0.7604 - auc: 0.8332 - loss: 0.5029 - recall: 0.7827 - val_accuracy: 0.7457 - val_auc: 0.8300 - val_loss: 0.5333 - val_recall: 0.7942\n",
      "Epoch 4/15\n",
      "164/164 - 1s - 4ms/step - accuracy: 0.7599 - auc: 0.8361 - loss: 0.4991 - recall: 0.7840 - val_accuracy: 0.7287 - val_auc: 0.8301 - val_loss: 0.5496 - val_recall: 0.8428\n",
      "Epoch 5/15\n",
      "164/164 - 1s - 4ms/step - accuracy: 0.7579 - auc: 0.8375 - loss: 0.4971 - recall: 0.7824 - val_accuracy: 0.7216 - val_auc: 0.8304 - val_loss: 0.5795 - val_recall: 0.8676\n",
      "Epoch 6/15\n",
      "164/164 - 1s - 5ms/step - accuracy: 0.7610 - auc: 0.8387 - loss: 0.4952 - recall: 0.7783 - val_accuracy: 0.7376 - val_auc: 0.8302 - val_loss: 0.5465 - val_recall: 0.8335\n"
     ]
    }
   ],
   "source": [
    "early_stop_cnn_lstm = EarlyStopping(monitor='val_loss', patience=3, restore_best_weights=True)\n",
    "\n",
    "history_cnn_lstm = model_cnn_lstm.fit(X_train, y_train, validation_data=(X_val, y_val),\n",
    "    epochs=15, batch_size=64, class_weight=class_weight_cnn_lstm, verbose=2, callbacks=[early_stop_cnn_lstm])"
   ]
  },
  {
   "cell_type": "markdown",
   "id": "7eb6e3d3",
   "metadata": {},
   "source": [
    "**Evaluate on validation set (default threshold = 0.5)**"
   ]
  },
  {
   "cell_type": "code",
   "execution_count": 9,
   "id": "d739a2d1",
   "metadata": {},
   "outputs": [
    {
     "name": "stdout",
     "output_type": "stream",
     "text": [
      "\u001b[1m71/71\u001b[0m \u001b[32m━━━━━━━━━━━━━━━━━━━━\u001b[0m\u001b[37m\u001b[0m \u001b[1m0s\u001b[0m 2ms/step\n",
      "\u001b[1m71/71\u001b[0m \u001b[32m━━━━━━━━━━━━━━━━━━━━\u001b[0m\u001b[37m\u001b[0m \u001b[1m0s\u001b[0m 925us/step\n",
      "Validation Classification Report (CNN + LSTM, Threshold=0.5):\n",
      "              precision    recall  f1-score   support\n",
      "\n",
      "           0       0.82      0.71      0.76      1278\n",
      "           1       0.67      0.79      0.73       967\n",
      "\n",
      "    accuracy                           0.75      2245\n",
      "   macro avg       0.75      0.75      0.74      2245\n",
      "weighted avg       0.76      0.75      0.75      2245\n",
      "\n",
      "Validation ROC-AUC Score (CNN + LSTM): 0.8300\n"
     ]
    }
   ],
   "source": [
    "# Validation\n",
    "y_val_probs_cnn_lstm = model_cnn_lstm.predict(X_val).flatten()\n",
    "y_val_preds_cnn_lstm = (y_val_probs_cnn_lstm >= 0.5).astype(int)\n",
    "\n",
    "y_test_probs_cnn_lstm = model_cnn_lstm.predict(X_test).flatten()\n",
    "y_test_preds_cnn_lstm = (y_test_probs_cnn_lstm >= 0.5).astype(int)\n",
    "\n",
    "print(\"Validation Classification Report (CNN + LSTM, Threshold=0.5):\")\n",
    "print(classification_report(y_val, y_val_preds_cnn_lstm))\n",
    "print(f\"Validation ROC-AUC Score (CNN + LSTM): {roc_auc_score(y_val, y_val_probs_cnn_lstm):.4f}\")"
   ]
  },
  {
   "cell_type": "markdown",
   "id": "8644afd7",
   "metadata": {},
   "source": [
    "**Evaluate on validation and test sets (after tuning) on CNN+LSTM model**"
   ]
  },
  {
   "cell_type": "code",
   "execution_count": 10,
   "id": "ecd61bcd",
   "metadata": {},
   "outputs": [
    {
     "name": "stdout",
     "output_type": "stream",
     "text": [
      "\n",
      "Best Threshold (CNN + LSTM): 0.47\n",
      "Recall: 0.8211, F1-score: 0.7345, Precision: 0.6644\n",
      "Validation Set Classification Report (CNN + LSTM, Tuned Threshold):\n",
      "              precision    recall  f1-score   support\n",
      "\n",
      "           0       0.84      0.69      0.75      1278\n",
      "           1       0.66      0.82      0.73       967\n",
      "\n",
      "    accuracy                           0.74      2245\n",
      "   macro avg       0.75      0.75      0.74      2245\n",
      "weighted avg       0.76      0.74      0.75      2245\n",
      "\n",
      "Validation Set ROC-AUC Score (CNN + LSTM): 0.8300\n",
      "Test Set Classification Report (CNN + LSTM, Tuned Threshold):\n",
      "              precision    recall  f1-score   support\n",
      "\n",
      "           0       0.88      0.63      0.74      1436\n",
      "           1       0.57      0.85      0.68       810\n",
      "\n",
      "    accuracy                           0.71      2246\n",
      "   macro avg       0.72      0.74      0.71      2246\n",
      "weighted avg       0.77      0.71      0.72      2246\n",
      "\n",
      "Test Set ROC-AUC Score (CNN + LSTM): 0.7986\n"
     ]
    }
   ],
   "source": [
    "thresholds = np.arange(0.40, 0.61, 0.01)\n",
    "best_thresh_cnn_lstm = 0.5\n",
    "best_f1_cnn_lstm = 0\n",
    "best_recall_cnn_lstm = 0\n",
    "best_precision_cnn_lstm = 0\n",
    "\n",
    "for t in thresholds:\n",
    "    preds_cnn_lstm = (y_val_probs_cnn_lstm >= t).astype(int)\n",
    "    recall = recall_score(y_val, preds_cnn_lstm)\n",
    "    f1 = f1_score(y_val, preds_cnn_lstm)\n",
    "    precision = precision_score(y_val, preds_cnn_lstm)\n",
    "\n",
    "    if recall >= 0.80 and f1 > best_f1_cnn_lstm:\n",
    "        best_f1_cnn_lstm = f1\n",
    "        best_thresh_cnn_lstm = t\n",
    "        best_recall_cnn_lstm = recall\n",
    "        best_precision_cnn_lstm = precision\n",
    "\n",
    "print(f\"\\nBest Threshold (CNN + LSTM): {best_thresh_cnn_lstm:.2f}\")\n",
    "print(f\"Recall: {best_recall_cnn_lstm:.4f}, F1-score: {best_f1_cnn_lstm:.4f}, Precision: {best_precision_cnn_lstm:.4f}\")\n",
    "\n",
    "# Validation set with best threshold\n",
    "final_val_preds_cnn_lstm = (y_val_probs_cnn_lstm >= best_thresh_cnn_lstm).astype(int)\n",
    "\n",
    "print(\"Validation Set Classification Report (CNN + LSTM, Tuned Threshold):\")\n",
    "print(classification_report(y_val, final_val_preds_cnn_lstm))\n",
    "print(f\"Validation Set ROC-AUC Score (CNN + LSTM): {roc_auc_score(y_val, y_val_probs_cnn_lstm):.4f}\")\n",
    "\n",
    "# Test set with best threshold\n",
    "final_test_preds_cnn_lstm = (y_test_probs_cnn_lstm >= best_thresh_cnn_lstm).astype(int)\n",
    "\n",
    "print(\"Test Set Classification Report (CNN + LSTM, Tuned Threshold):\")\n",
    "print(classification_report(y_test, final_test_preds_cnn_lstm))\n",
    "print(f\"Test Set ROC-AUC Score (CNN + LSTM): {roc_auc_score(y_test, y_test_probs_cnn_lstm):.4f}\")"
   ]
  },
  {
   "cell_type": "markdown",
   "id": "777d3aa4",
   "metadata": {},
   "source": [
    "## **Model #6: Transformer**"
   ]
  },
  {
   "cell_type": "markdown",
   "id": "2df43f3b",
   "metadata": {},
   "source": [
    "**Building the Transformer Model**"
   ]
  },
  {
   "cell_type": "code",
   "execution_count": 70,
   "id": "f19bdc4d",
   "metadata": {},
   "outputs": [],
   "source": [
    "class PositionalEncoding(Layer):\n",
    "    def __init__(self, position, d_model):\n",
    "        super(PositionalEncoding, self).__init__()\n",
    "        self.pos_encoding = self.positional_encoding(position, d_model)\n",
    "\n",
    "    def get_config(self):\n",
    "        config = super().get_config().copy()\n",
    "        config.update({\n",
    "            'pos_encoding': self.pos_encoding.numpy(),\n",
    "        })\n",
    "        return config\n",
    "\n",
    "    def positional_encoding(self, position, d_model):\n",
    "        angle_rads = self.get_angles(np.arange(position)[:, np.newaxis],\n",
    "                                     np.arange(d_model)[np.newaxis, :],\n",
    "                                     d_model)\n",
    "        # apply sin to even indices in the array; 2i\n",
    "        angle_rads[:, 0::2] = np.sin(angle_rads[:, 0::2])\n",
    "        # apply cos to odd indices in the array; 2i+1\n",
    "        angle_rads[:, 1::2] = np.cos(angle_rads[:, 1::2])\n",
    "\n",
    "        pos_encoding = angle_rads[np.newaxis, ...]\n",
    "\n",
    "        return tf.cast(pos_encoding, dtype=tf.float32)\n",
    "\n",
    "    def get_angles(self, pos, i, d_model):\n",
    "        angle_rates = 1 / np.power(10000, (2 * (i//2)) / np.float32(d_model))\n",
    "        return pos * angle_rates\n",
    "\n",
    "    def call(self, inputs):\n",
    "        return inputs + self.pos_encoding[:, :tf.shape(inputs)[1], :]"
   ]
  },
  {
   "cell_type": "code",
   "execution_count": 71,
   "id": "53d1b38b",
   "metadata": {},
   "outputs": [],
   "source": [
    "class TransformerEncoder(Layer):\n",
    "    def __init__(self, d_model, num_heads, dff, rate=0.1):\n",
    "        super(TransformerEncoder, self).__init__()\n",
    "\n",
    "        self.mha = MultiHeadAttention(num_heads=num_heads, key_dim=d_model)\n",
    "        self.ffn = tf.keras.Sequential([\n",
    "            Dense(dff, activation='relu'),\n",
    "            Dense(d_model)\n",
    "        ])\n",
    "\n",
    "        self.layernorm1 = LayerNormalization(epsilon=1e-6)\n",
    "        self.layernorm2 = LayerNormalization(epsilon=1e-6)\n",
    "\n",
    "        self.dropout1 = Dropout(rate)\n",
    "        self.dropout2 = Dropout(rate)\n",
    "    \n",
    "    def call(self, x, training=False):\n",
    "        attn_output = self.mha(x, x, x, training=training)  # Pass training here\n",
    "        attn_output = self.dropout1(attn_output, training=training)\n",
    "        out1 = self.layernorm1(x + attn_output)\n",
    "\n",
    "        ffn_output = self.ffn(out1)\n",
    "        ffn_output = self.dropout2(ffn_output, training=training)\n",
    "        out2 = self.layernorm2(out1 + ffn_output)\n",
    "\n",
    "        return out2"
   ]
  },
  {
   "cell_type": "code",
   "execution_count": 72,
   "id": "e8948910",
   "metadata": {},
   "outputs": [
    {
     "data": {
      "text/html": [
       "<pre style=\"white-space:pre;overflow-x:auto;line-height:normal;font-family:Menlo,'DejaVu Sans Mono',consolas,'Courier New',monospace\"><span style=\"font-weight: bold\">Model: \"functional_15\"</span>\n",
       "</pre>\n"
      ],
      "text/plain": [
       "\u001b[1mModel: \"functional_15\"\u001b[0m\n"
      ]
     },
     "metadata": {},
     "output_type": "display_data"
    },
    {
     "data": {
      "text/html": [
       "<pre style=\"white-space:pre;overflow-x:auto;line-height:normal;font-family:Menlo,'DejaVu Sans Mono',consolas,'Courier New',monospace\">┏━━━━━━━━━━━━━━━━━━━━━━━━━━━━━━━━━┳━━━━━━━━━━━━━━━━━━━━━━━━┳━━━━━━━━━━━━━━━┓\n",
       "┃<span style=\"font-weight: bold\"> Layer (type)                    </span>┃<span style=\"font-weight: bold\"> Output Shape           </span>┃<span style=\"font-weight: bold\">       Param # </span>┃\n",
       "┡━━━━━━━━━━━━━━━━━━━━━━━━━━━━━━━━━╇━━━━━━━━━━━━━━━━━━━━━━━━╇━━━━━━━━━━━━━━━┩\n",
       "│ input_layer_13 (<span style=\"color: #0087ff; text-decoration-color: #0087ff\">InputLayer</span>)     │ (<span style=\"color: #00d7ff; text-decoration-color: #00d7ff\">None</span>, <span style=\"color: #00af00; text-decoration-color: #00af00\">21</span>, <span style=\"color: #00af00; text-decoration-color: #00af00\">12</span>)         │             <span style=\"color: #00af00; text-decoration-color: #00af00\">0</span> │\n",
       "├─────────────────────────────────┼────────────────────────┼───────────────┤\n",
       "│ dense_27 (<span style=\"color: #0087ff; text-decoration-color: #0087ff\">Dense</span>)                │ (<span style=\"color: #00d7ff; text-decoration-color: #00d7ff\">None</span>, <span style=\"color: #00af00; text-decoration-color: #00af00\">21</span>, <span style=\"color: #00af00; text-decoration-color: #00af00\">64</span>)         │           <span style=\"color: #00af00; text-decoration-color: #00af00\">832</span> │\n",
       "├─────────────────────────────────┼────────────────────────┼───────────────┤\n",
       "│ positional_encoding_1           │ (<span style=\"color: #00d7ff; text-decoration-color: #00d7ff\">None</span>, <span style=\"color: #00af00; text-decoration-color: #00af00\">21</span>, <span style=\"color: #00af00; text-decoration-color: #00af00\">64</span>)         │             <span style=\"color: #00af00; text-decoration-color: #00af00\">0</span> │\n",
       "│ (<span style=\"color: #0087ff; text-decoration-color: #0087ff\">PositionalEncoding</span>)            │                        │               │\n",
       "├─────────────────────────────────┼────────────────────────┼───────────────┤\n",
       "│ transformer_encoder_2           │ (<span style=\"color: #00d7ff; text-decoration-color: #00d7ff\">None</span>, <span style=\"color: #00af00; text-decoration-color: #00af00\">21</span>, <span style=\"color: #00af00; text-decoration-color: #00af00\">64</span>)         │        <span style=\"color: #00af00; text-decoration-color: #00af00\">83,200</span> │\n",
       "│ (<span style=\"color: #0087ff; text-decoration-color: #0087ff\">TransformerEncoder</span>)            │                        │               │\n",
       "├─────────────────────────────────┼────────────────────────┼───────────────┤\n",
       "│ transformer_encoder_3           │ (<span style=\"color: #00d7ff; text-decoration-color: #00d7ff\">None</span>, <span style=\"color: #00af00; text-decoration-color: #00af00\">21</span>, <span style=\"color: #00af00; text-decoration-color: #00af00\">64</span>)         │        <span style=\"color: #00af00; text-decoration-color: #00af00\">83,200</span> │\n",
       "│ (<span style=\"color: #0087ff; text-decoration-color: #0087ff\">TransformerEncoder</span>)            │                        │               │\n",
       "├─────────────────────────────────┼────────────────────────┼───────────────┤\n",
       "│ global_average_pooling1d_1      │ (<span style=\"color: #00d7ff; text-decoration-color: #00d7ff\">None</span>, <span style=\"color: #00af00; text-decoration-color: #00af00\">64</span>)             │             <span style=\"color: #00af00; text-decoration-color: #00af00\">0</span> │\n",
       "│ (<span style=\"color: #0087ff; text-decoration-color: #0087ff\">GlobalAveragePooling1D</span>)        │                        │               │\n",
       "├─────────────────────────────────┼────────────────────────┼───────────────┤\n",
       "│ dropout_34 (<span style=\"color: #0087ff; text-decoration-color: #0087ff\">Dropout</span>)            │ (<span style=\"color: #00d7ff; text-decoration-color: #00d7ff\">None</span>, <span style=\"color: #00af00; text-decoration-color: #00af00\">64</span>)             │             <span style=\"color: #00af00; text-decoration-color: #00af00\">0</span> │\n",
       "├─────────────────────────────────┼────────────────────────┼───────────────┤\n",
       "│ dense_32 (<span style=\"color: #0087ff; text-decoration-color: #0087ff\">Dense</span>)                │ (<span style=\"color: #00d7ff; text-decoration-color: #00d7ff\">None</span>, <span style=\"color: #00af00; text-decoration-color: #00af00\">32</span>)             │         <span style=\"color: #00af00; text-decoration-color: #00af00\">2,080</span> │\n",
       "├─────────────────────────────────┼────────────────────────┼───────────────┤\n",
       "│ dropout_35 (<span style=\"color: #0087ff; text-decoration-color: #0087ff\">Dropout</span>)            │ (<span style=\"color: #00d7ff; text-decoration-color: #00d7ff\">None</span>, <span style=\"color: #00af00; text-decoration-color: #00af00\">32</span>)             │             <span style=\"color: #00af00; text-decoration-color: #00af00\">0</span> │\n",
       "├─────────────────────────────────┼────────────────────────┼───────────────┤\n",
       "│ dense_33 (<span style=\"color: #0087ff; text-decoration-color: #0087ff\">Dense</span>)                │ (<span style=\"color: #00d7ff; text-decoration-color: #00d7ff\">None</span>, <span style=\"color: #00af00; text-decoration-color: #00af00\">1</span>)              │            <span style=\"color: #00af00; text-decoration-color: #00af00\">33</span> │\n",
       "└─────────────────────────────────┴────────────────────────┴───────────────┘\n",
       "</pre>\n"
      ],
      "text/plain": [
       "┏━━━━━━━━━━━━━━━━━━━━━━━━━━━━━━━━━┳━━━━━━━━━━━━━━━━━━━━━━━━┳━━━━━━━━━━━━━━━┓\n",
       "┃\u001b[1m \u001b[0m\u001b[1mLayer (type)                   \u001b[0m\u001b[1m \u001b[0m┃\u001b[1m \u001b[0m\u001b[1mOutput Shape          \u001b[0m\u001b[1m \u001b[0m┃\u001b[1m \u001b[0m\u001b[1m      Param #\u001b[0m\u001b[1m \u001b[0m┃\n",
       "┡━━━━━━━━━━━━━━━━━━━━━━━━━━━━━━━━━╇━━━━━━━━━━━━━━━━━━━━━━━━╇━━━━━━━━━━━━━━━┩\n",
       "│ input_layer_13 (\u001b[38;5;33mInputLayer\u001b[0m)     │ (\u001b[38;5;45mNone\u001b[0m, \u001b[38;5;34m21\u001b[0m, \u001b[38;5;34m12\u001b[0m)         │             \u001b[38;5;34m0\u001b[0m │\n",
       "├─────────────────────────────────┼────────────────────────┼───────────────┤\n",
       "│ dense_27 (\u001b[38;5;33mDense\u001b[0m)                │ (\u001b[38;5;45mNone\u001b[0m, \u001b[38;5;34m21\u001b[0m, \u001b[38;5;34m64\u001b[0m)         │           \u001b[38;5;34m832\u001b[0m │\n",
       "├─────────────────────────────────┼────────────────────────┼───────────────┤\n",
       "│ positional_encoding_1           │ (\u001b[38;5;45mNone\u001b[0m, \u001b[38;5;34m21\u001b[0m, \u001b[38;5;34m64\u001b[0m)         │             \u001b[38;5;34m0\u001b[0m │\n",
       "│ (\u001b[38;5;33mPositionalEncoding\u001b[0m)            │                        │               │\n",
       "├─────────────────────────────────┼────────────────────────┼───────────────┤\n",
       "│ transformer_encoder_2           │ (\u001b[38;5;45mNone\u001b[0m, \u001b[38;5;34m21\u001b[0m, \u001b[38;5;34m64\u001b[0m)         │        \u001b[38;5;34m83,200\u001b[0m │\n",
       "│ (\u001b[38;5;33mTransformerEncoder\u001b[0m)            │                        │               │\n",
       "├─────────────────────────────────┼────────────────────────┼───────────────┤\n",
       "│ transformer_encoder_3           │ (\u001b[38;5;45mNone\u001b[0m, \u001b[38;5;34m21\u001b[0m, \u001b[38;5;34m64\u001b[0m)         │        \u001b[38;5;34m83,200\u001b[0m │\n",
       "│ (\u001b[38;5;33mTransformerEncoder\u001b[0m)            │                        │               │\n",
       "├─────────────────────────────────┼────────────────────────┼───────────────┤\n",
       "│ global_average_pooling1d_1      │ (\u001b[38;5;45mNone\u001b[0m, \u001b[38;5;34m64\u001b[0m)             │             \u001b[38;5;34m0\u001b[0m │\n",
       "│ (\u001b[38;5;33mGlobalAveragePooling1D\u001b[0m)        │                        │               │\n",
       "├─────────────────────────────────┼────────────────────────┼───────────────┤\n",
       "│ dropout_34 (\u001b[38;5;33mDropout\u001b[0m)            │ (\u001b[38;5;45mNone\u001b[0m, \u001b[38;5;34m64\u001b[0m)             │             \u001b[38;5;34m0\u001b[0m │\n",
       "├─────────────────────────────────┼────────────────────────┼───────────────┤\n",
       "│ dense_32 (\u001b[38;5;33mDense\u001b[0m)                │ (\u001b[38;5;45mNone\u001b[0m, \u001b[38;5;34m32\u001b[0m)             │         \u001b[38;5;34m2,080\u001b[0m │\n",
       "├─────────────────────────────────┼────────────────────────┼───────────────┤\n",
       "│ dropout_35 (\u001b[38;5;33mDropout\u001b[0m)            │ (\u001b[38;5;45mNone\u001b[0m, \u001b[38;5;34m32\u001b[0m)             │             \u001b[38;5;34m0\u001b[0m │\n",
       "├─────────────────────────────────┼────────────────────────┼───────────────┤\n",
       "│ dense_33 (\u001b[38;5;33mDense\u001b[0m)                │ (\u001b[38;5;45mNone\u001b[0m, \u001b[38;5;34m1\u001b[0m)              │            \u001b[38;5;34m33\u001b[0m │\n",
       "└─────────────────────────────────┴────────────────────────┴───────────────┘\n"
      ]
     },
     "metadata": {},
     "output_type": "display_data"
    },
    {
     "data": {
      "text/html": [
       "<pre style=\"white-space:pre;overflow-x:auto;line-height:normal;font-family:Menlo,'DejaVu Sans Mono',consolas,'Courier New',monospace\"><span style=\"font-weight: bold\"> Total params: </span><span style=\"color: #00af00; text-decoration-color: #00af00\">169,345</span> (661.50 KB)\n",
       "</pre>\n"
      ],
      "text/plain": [
       "\u001b[1m Total params: \u001b[0m\u001b[38;5;34m169,345\u001b[0m (661.50 KB)\n"
      ]
     },
     "metadata": {},
     "output_type": "display_data"
    },
    {
     "data": {
      "text/html": [
       "<pre style=\"white-space:pre;overflow-x:auto;line-height:normal;font-family:Menlo,'DejaVu Sans Mono',consolas,'Courier New',monospace\"><span style=\"font-weight: bold\"> Trainable params: </span><span style=\"color: #00af00; text-decoration-color: #00af00\">169,345</span> (661.50 KB)\n",
       "</pre>\n"
      ],
      "text/plain": [
       "\u001b[1m Trainable params: \u001b[0m\u001b[38;5;34m169,345\u001b[0m (661.50 KB)\n"
      ]
     },
     "metadata": {},
     "output_type": "display_data"
    },
    {
     "data": {
      "text/html": [
       "<pre style=\"white-space:pre;overflow-x:auto;line-height:normal;font-family:Menlo,'DejaVu Sans Mono',consolas,'Courier New',monospace\"><span style=\"font-weight: bold\"> Non-trainable params: </span><span style=\"color: #00af00; text-decoration-color: #00af00\">0</span> (0.00 B)\n",
       "</pre>\n"
      ],
      "text/plain": [
       "\u001b[1m Non-trainable params: \u001b[0m\u001b[38;5;34m0\u001b[0m (0.00 B)\n"
      ]
     },
     "metadata": {},
     "output_type": "display_data"
    }
   ],
   "source": [
    "timesteps = X_train.shape[1]  # 21\n",
    "n_features = X_train.shape[2]  # 12\n",
    "\n",
    "d_model = 64     # embedding dimension\n",
    "num_heads = 4    # attention heads\n",
    "dff = 128        # feed-forward network units\n",
    "dropout_rate = 0.1\n",
    "\n",
    "inputs = Input(shape=(timesteps, n_features))\n",
    "x = Dense(d_model)(inputs)  # Linear projection to d_model dimension\n",
    "x = PositionalEncoding(timesteps, d_model)(x)\n",
    "\n",
    "# Stack Transformer encoder layers (try 2)\n",
    "for _ in range(2):\n",
    "    x = TransformerEncoder(d_model, num_heads, dff, dropout_rate)(x)\n",
    "\n",
    "x = GlobalAveragePooling1D()(x)\n",
    "x = Dropout(0.3)(x)\n",
    "x = Dense(32, activation='relu')(x)\n",
    "x = Dropout(0.2)(x)\n",
    "outputs = Dense(1, activation='sigmoid')(x)\n",
    "\n",
    "model_transformer = Model(inputs=inputs, outputs=outputs)\n",
    "\n",
    "model_transformer.compile(\n",
    "    loss='binary_crossentropy',\n",
    "    optimizer='adam',\n",
    "    metrics=['accuracy', tf.keras.metrics.Recall(name='recall'), tf.keras.metrics.AUC(name='auc')])\n",
    "\n",
    "model_transformer.summary()"
   ]
  },
  {
   "cell_type": "markdown",
   "id": "a6559c56",
   "metadata": {},
   "source": [
    "**Training the Transformer Model**"
   ]
  },
  {
   "cell_type": "code",
   "execution_count": 73,
   "id": "9f7aeb14",
   "metadata": {},
   "outputs": [
    {
     "name": "stdout",
     "output_type": "stream",
     "text": [
      "Epoch 1/15\n",
      "164/164 - 8s - 48ms/step - accuracy: 0.7299 - auc: 0.8002 - loss: 0.5472 - recall: 0.7595 - val_accuracy: 0.7443 - val_auc: 0.8219 - val_loss: 0.5504 - val_recall: 0.8201\n",
      "Epoch 2/15\n",
      "164/164 - 6s - 34ms/step - accuracy: 0.7527 - auc: 0.8186 - loss: 0.5237 - recall: 0.7774 - val_accuracy: 0.7599 - val_auc: 0.8238 - val_loss: 0.5178 - val_recall: 0.7528\n",
      "Epoch 3/15\n",
      "164/164 - 5s - 32ms/step - accuracy: 0.7501 - auc: 0.8231 - loss: 0.5188 - recall: 0.7818 - val_accuracy: 0.7372 - val_auc: 0.8249 - val_loss: 0.5456 - val_recall: 0.8459\n",
      "Epoch 4/15\n",
      "164/164 - 5s - 32ms/step - accuracy: 0.7571 - auc: 0.8275 - loss: 0.5123 - recall: 0.7840 - val_accuracy: 0.7461 - val_auc: 0.8269 - val_loss: 0.5424 - val_recall: 0.8180\n",
      "Epoch 5/15\n",
      "164/164 - 5s - 33ms/step - accuracy: 0.7528 - auc: 0.8363 - loss: 0.4996 - recall: 0.7937 - val_accuracy: 0.6958 - val_auc: 0.8286 - val_loss: 0.5850 - val_recall: 0.8956\n"
     ]
    }
   ],
   "source": [
    "# Compute class weights (if not done already)\n",
    "weights_transformer = class_weight.compute_class_weight(\n",
    "    class_weight='balanced',\n",
    "    classes=np.unique(y_train),\n",
    "    y=y_train)\n",
    "class_weight_transformer = dict(enumerate(weights_transformer))\n",
    "\n",
    "# Early stopping callback\n",
    "early_stop_transformer = EarlyStopping(monitor='val_loss', patience=3, restore_best_weights=True)\n",
    "\n",
    "# Train the Transformer model\n",
    "history_transformer = model_transformer.fit(X_train, y_train,\n",
    "    validation_data=(X_val, y_val), epochs=15, batch_size=64, class_weight=class_weight_transformer,\n",
    "    verbose=2, callbacks=[early_stop_transformer])"
   ]
  },
  {
   "cell_type": "markdown",
   "id": "4e9a02e2",
   "metadata": {},
   "source": [
    "**Evaluate on validation set (default threshold) for Transformer**"
   ]
  },
  {
   "cell_type": "code",
   "execution_count": 74,
   "id": "118c0392",
   "metadata": {},
   "outputs": [
    {
     "name": "stdout",
     "output_type": "stream",
     "text": [
      "\u001b[1m71/71\u001b[0m \u001b[32m━━━━━━━━━━━━━━━━━━━━\u001b[0m\u001b[37m\u001b[0m \u001b[1m1s\u001b[0m 7ms/step\n",
      "\u001b[1m71/71\u001b[0m \u001b[32m━━━━━━━━━━━━━━━━━━━━\u001b[0m\u001b[37m\u001b[0m \u001b[1m0s\u001b[0m 6ms/step\n",
      "Validation Set Classification Report (Transformer, Threshold=0.5):\n",
      "              precision    recall  f1-score   support\n",
      "\n",
      "           0       0.80      0.77      0.78      1278\n",
      "           1       0.71      0.75      0.73       967\n",
      "\n",
      "    accuracy                           0.76      2245\n",
      "   macro avg       0.76      0.76      0.76      2245\n",
      "weighted avg       0.76      0.76      0.76      2245\n",
      "\n",
      "Validation ROC-AUC Score: 0.8242\n"
     ]
    }
   ],
   "source": [
    "# Predict probabilities on validation set\n",
    "y_val_probs_transformer = model_transformer.predict(X_val).flatten()\n",
    "y_val_preds_transformer = (y_val_probs_transformer >= 0.5).astype(int)\n",
    "\n",
    "y_test_probs_transformer = model_transformer.predict(X_test).flatten()\n",
    "y_test_preds_transformer = (y_test_probs_transformer >= 0.5).astype(int)\n",
    "\n",
    "\n",
    "print(\"Validation Set Classification Report (Transformer, Threshold=0.5):\")\n",
    "print(classification_report(y_val, y_val_preds_transformer))\n",
    "print(f\"Validation ROC-AUC Score: {roc_auc_score(y_val, y_val_probs_transformer):.4f}\")"
   ]
  },
  {
   "cell_type": "markdown",
   "id": "3bffde04",
   "metadata": {},
   "source": [
    "**Evaluate on validation and test sets (after tuning) on Transformer model**"
   ]
  },
  {
   "cell_type": "code",
   "execution_count": 75,
   "id": "1d13b006",
   "metadata": {},
   "outputs": [
    {
     "name": "stdout",
     "output_type": "stream",
     "text": [
      "Chosen threshold (Transformer): 0.41\n",
      "Recall: 0.8004\n",
      "F1-score: 0.7323\n",
      "Precision: 0.6748\n",
      "Validation Set Classification Report (Transformer, Tuned Threshold):\n",
      "              precision    recall  f1-score   support\n",
      "\n",
      "           0       0.82      0.71      0.76      1278\n",
      "           1       0.67      0.80      0.73       967\n",
      "\n",
      "    accuracy                           0.75      2245\n",
      "   macro avg       0.75      0.75      0.75      2245\n",
      "weighted avg       0.76      0.75      0.75      2245\n",
      "\n",
      "Validation ROC-AUC Score: 0.8242\n",
      "Test Set Classification Report (Transformer, Tuned Threshold):\n",
      "              precision    recall  f1-score   support\n",
      "\n",
      "           0       0.87      0.65      0.74      1436\n",
      "           1       0.57      0.83      0.68       810\n",
      "\n",
      "    accuracy                           0.71      2246\n",
      "   macro avg       0.72      0.74      0.71      2246\n",
      "weighted avg       0.76      0.71      0.72      2246\n",
      "\n",
      "Test ROC-AUC Score: 0.7947\n"
     ]
    }
   ],
   "source": [
    "thresholds = np.arange(0.40, 0.61, 0.01)\n",
    "best_thresh_transformer = 0.5\n",
    "best_f1_transformer = 0\n",
    "best_recall_transformer = 0\n",
    "best_precision_transformer = 0\n",
    "\n",
    "for t in thresholds:\n",
    "    preds_transformer = (y_val_probs_transformer >= t).astype(int)\n",
    "    recall = recall_score(y_val, preds_transformer)\n",
    "    f1 = f1_score(y_val, preds_transformer)\n",
    "    precision = precision_score(y_val, preds_transformer)\n",
    "\n",
    "    if recall >= 0.80 and f1 > best_f1_transformer:\n",
    "        best_f1_transformer = f1\n",
    "        best_thresh_transformer = t\n",
    "        best_recall_transformer = recall\n",
    "        best_precision_transformer = precision\n",
    "\n",
    "print(f\"Chosen threshold (Transformer): {best_thresh_transformer:.2f}\")\n",
    "print(f\"Recall: {best_recall_transformer:.4f}\")\n",
    "print(f\"F1-score: {best_f1_transformer:.4f}\")\n",
    "print(f\"Precision: {best_precision_transformer:.4f}\")\n",
    "\n",
    "# Validation set with tuned threshold\n",
    "final_preds_val_transformer = (y_val_probs_transformer >= best_thresh_transformer).astype(int)\n",
    "\n",
    "print(\"Validation Set Classification Report (Transformer, Tuned Threshold):\")\n",
    "print(classification_report(y_val, final_preds_val_transformer))\n",
    "print(f\"Validation ROC-AUC Score: {roc_auc_score(y_val, y_val_probs_transformer):.4f}\")\n",
    "\n",
    "# Test set with tuned threshold\n",
    "final_preds_test_transformer = (y_test_probs_transformer >= best_thresh_transformer).astype(int)\n",
    "\n",
    "print(\"Test Set Classification Report (Transformer, Tuned Threshold):\")\n",
    "print(classification_report(y_test, final_preds_test_transformer))\n",
    "print(f\"Test ROC-AUC Score: {roc_auc_score(y_test, y_test_probs_transformer):.4f}\")"
   ]
  },
  {
   "cell_type": "markdown",
   "id": "b86b1c43",
   "metadata": {},
   "source": [
    "## **Model #7: Random Forest**"
   ]
  },
  {
   "cell_type": "code",
   "execution_count": 35,
   "id": "97a9bbea",
   "metadata": {},
   "outputs": [
    {
     "name": "stdout",
     "output_type": "stream",
     "text": [
      "Chosen threshold (Random Forest): 0.40\n",
      "Recall: 0.6909\n",
      "F1-score: 0.6602\n",
      "Precision: 0.6322\n",
      "Validation Set Classification Report (Random Forest):\n",
      "              precision    recall  f1-score   support\n",
      "\n",
      "           0       0.84      0.80      0.82      1499\n",
      "           1       0.63      0.69      0.66       744\n",
      "\n",
      "    accuracy                           0.76      2243\n",
      "   macro avg       0.74      0.75      0.74      2243\n",
      "weighted avg       0.77      0.76      0.77      2243\n",
      "\n",
      "Validation ROC-AUC Score: 0.8377\n",
      "Test Set Classification Report (Random Forest):\n",
      "              precision    recall  f1-score   support\n",
      "\n",
      "           0       0.85      0.82      0.84      1503\n",
      "           1       0.67      0.71      0.69       746\n",
      "\n",
      "    accuracy                           0.79      2249\n",
      "   macro avg       0.76      0.77      0.76      2249\n",
      "weighted avg       0.79      0.79      0.79      2249\n",
      "\n",
      "Test Set ROC-AUC Score: 0.8427\n"
     ]
    }
   ],
   "source": [
    "# Features and targetfor Rnadom Forest\n",
    "feature_cols = ['PRECIPITATION', 'MAX_TEMP', 'MIN_TEMP', 'AVG_WIND_SPEED', 'TEMP_RANGE',\n",
    "                'LAGGED_PRECIPITATION', 'LAGGED_AVG_WIND_SPEED', 'YEAR', 'SEASON_SIN', \n",
    "                'SEASON_COS', 'DAY_SIN', 'DAY_COS']\n",
    "target_col = 'FIRE_START_DAY'\n",
    "\n",
    "X = df[feature_cols]\n",
    "y = df[target_col]\n",
    "\n",
    "# Split the data (train 70%, val 15%, test 15%) with stratify to keep class balance\n",
    "X_train_val, X_test, y_train_val, y_test = train_test_split(\n",
    "    X, y, test_size=0.15, random_state=42, stratify=y)\n",
    "\n",
    "X_train, X_val, y_train, y_val = train_test_split(\n",
    "    X_train_val, y_train_val, test_size=0.176, random_state=42, stratify=y_train_val)\n",
    "\n",
    "# Initialize and train Random Forest with balanced class weight\n",
    "model_rf = RandomForestClassifier(n_estimators=100, class_weight='balanced', random_state=42)\n",
    "model_rf.fit(X_train, y_train)\n",
    "\n",
    "# Predict probabilities on validation set\n",
    "y_val_probs_rf = model_rf.predict_proba(X_val)[:, 1]\n",
    "\n",
    "# Threshold tuning to balance recall >= 0.80 and maximize F1\n",
    "thresholds = np.arange(0.40, 0.61, 0.01)\n",
    "best_thresh_rf = 0.5\n",
    "best_f1_rf = 0\n",
    "best_recall_rf = 0\n",
    "best_precision_rf = 0\n",
    "\n",
    "for t in thresholds:\n",
    "    preds = (y_val_probs_rf >= t).astype(int)\n",
    "    recall = recall_score(y_val, preds)\n",
    "    f1 = f1_score(y_val, preds)\n",
    "    precision = precision_score(y_val, preds)\n",
    "    \n",
    "    if f1 > best_f1_rf:\n",
    "        best_f1_rf = f1\n",
    "        best_thresh_rf = t\n",
    "        best_recall_rf = recall\n",
    "        best_precision_rf = precision\n",
    "\n",
    "print(f\"Chosen threshold (Random Forest): {best_thresh_rf:.2f}\")\n",
    "print(f\"Recall: {best_recall_rf:.4f}\")\n",
    "print(f\"F1-score: {best_f1_rf:.4f}\")\n",
    "print(f\"Precision: {best_precision_rf:.4f}\")\n",
    "\n",
    "# Final predictions on validation set with best threshold\n",
    "final_val_preds_rf = (y_val_probs_rf >= best_thresh_rf).astype(int)\n",
    "print(\"Validation Set Classification Report (Random Forest):\")\n",
    "print(classification_report(y_val, final_val_preds_rf))\n",
    "print(f\"Validation ROC-AUC Score: {roc_auc_score(y_val, y_val_probs_rf):.4f}\")\n",
    "\n",
    "# Predict on test set and evaluate\n",
    "y_test_probs_rf = model_rf.predict_proba(X_test)[:, 1]\n",
    "y_test_preds_rf = (y_test_probs_rf >= best_thresh_rf).astype(int)\n",
    "\n",
    "print(\"Test Set Classification Report (Random Forest):\")\n",
    "print(classification_report(y_test, y_test_preds_rf))\n",
    "print(f\"Test Set ROC-AUC Score: {roc_auc_score(y_test, y_test_probs_rf):.4f}\")"
   ]
  },
  {
   "cell_type": "markdown",
   "id": "4c50ae4e",
   "metadata": {},
   "source": [
    "## **Model #8: XGBoost**"
   ]
  },
  {
   "cell_type": "code",
   "execution_count": 36,
   "id": "be576bc6",
   "metadata": {},
   "outputs": [
    {
     "name": "stdout",
     "output_type": "stream",
     "text": [
      "[0]\ttrain-logloss:0.65629\teval-logloss:0.65868\n",
      "[10]\ttrain-logloss:0.49740\teval-logloss:0.51379\n",
      "[20]\ttrain-logloss:0.45250\teval-logloss:0.48073\n",
      "[30]\ttrain-logloss:0.43554\teval-logloss:0.47136\n",
      "[40]\ttrain-logloss:0.42569\teval-logloss:0.46854\n",
      "[50]\ttrain-logloss:0.42041\teval-logloss:0.46749\n",
      "[57]\ttrain-logloss:0.41652\teval-logloss:0.46731\n",
      "Validation Set Classification Report (XGBoost, Threshold=0.5):\n",
      "              precision    recall  f1-score   support\n",
      "\n",
      "           0       0.88      0.76      0.81      1499\n",
      "           1       0.62      0.78      0.69       744\n",
      "\n",
      "    accuracy                           0.77      2243\n",
      "   macro avg       0.75      0.77      0.75      2243\n",
      "weighted avg       0.79      0.77      0.77      2243\n",
      "\n",
      "Validation ROC-AUC Score: 0.8550\n",
      "Chosen threshold (XGBoost): 0.55\n",
      "Recall: 0.7608\n",
      "F1-score: 0.7014\n",
      "Precision: 0.6506\n",
      "Test Set Classification Report (XGBoost):\n",
      "              precision    recall  f1-score   support\n",
      "\n",
      "           0       0.87      0.80      0.83      1503\n",
      "           1       0.65      0.75      0.70       746\n",
      "\n",
      "    accuracy                           0.78      2249\n",
      "   macro avg       0.76      0.78      0.76      2249\n",
      "weighted avg       0.79      0.78      0.79      2249\n",
      "\n",
      "Test Set ROC-AUC Score: 0.8569\n"
     ]
    },
    {
     "name": "stderr",
     "output_type": "stream",
     "text": [
      "/Users/marielle/anaconda3/lib/python3.11/site-packages/xgboost/core.py:158: UserWarning: [23:31:04] WARNING: /Users/runner/work/xgboost/xgboost/src/learner.cc:740: \n",
      "Parameters: { \"use_label_encoder\" } are not used.\n",
      "\n",
      "  warnings.warn(smsg, UserWarning)\n"
     ]
    }
   ],
   "source": [
    "# Create DMatrix for XGBoost\n",
    "dtrain = xgb.DMatrix(X_train, label=y_train)\n",
    "dval = xgb.DMatrix(X_val, label=y_val)\n",
    "dtest = xgb.DMatrix(X_test, label=y_test)\n",
    "\n",
    "# Play around with the params!!2212111#231243r\n",
    "params = {\n",
    "    'objective': 'binary:logistic',\n",
    "    'eval_metric': 'logloss',\n",
    "    'use_label_encoder': False,\n",
    "    'scale_pos_weight': (len(y_train) - sum(y_train)) / sum(y_train),  # handle class imbalance\n",
    "    'eta': 0.1,\n",
    "    'max_depth': 5,\n",
    "    'seed': 42,}\n",
    "\n",
    "evallist = [(dtrain, 'train'), (dval, 'eval')]\n",
    "\n",
    "# Train model with early stopping\n",
    "model_xgb = xgb.train(params, dtrain, num_boost_round=1000, evals=evallist,\n",
    "                      early_stopping_rounds=10, verbose_eval=10)\n",
    "\n",
    "# Predict probabilities on validation set\n",
    "y_val_probs_xgb = model_xgb.predict(dval)\n",
    "y_val_preds_xgb = (y_val_probs_xgb >= 0.5).astype(int)\n",
    "\n",
    "print(\"Validation Set Classification Report (XGBoost, Threshold=0.5):\")\n",
    "print(classification_report(y_val, y_val_preds_xgb))\n",
    "print(f\"Validation ROC-AUC Score: {roc_auc_score(y_val, y_val_probs_xgb):.4f}\")\n",
    "\n",
    "# Threshold tuning\n",
    "thresholds = np.arange(0.40, 0.61, 0.01)\n",
    "best_thresh_xgb = 0.5\n",
    "best_f1_xgb = 0\n",
    "best_recall_xgb = 0\n",
    "best_precision_xgb = 0\n",
    "\n",
    "for t in thresholds:\n",
    "    preds = (y_val_probs_xgb >= t).astype(int)\n",
    "    recall = recall_score(y_val, preds)\n",
    "    f1 = f1_score(y_val, preds)\n",
    "    precision = precision_score(y_val, preds)\n",
    "\n",
    "    if f1 > best_f1_xgb:  # relax recall constraint here\n",
    "        best_f1_xgb = f1\n",
    "        best_thresh_xgb = t\n",
    "        best_recall_xgb = recall\n",
    "        best_precision_xgb = precision\n",
    "\n",
    "print(f\"Chosen threshold (XGBoost): {best_thresh_xgb:.2f}\")\n",
    "print(f\"Recall: {best_recall_xgb:.4f}\")\n",
    "print(f\"F1-score: {best_f1_xgb:.4f}\")\n",
    "print(f\"Precision: {best_precision_xgb:.4f}\")\n",
    "\n",
    "# Predict on test set with tuned threshold\n",
    "y_test_probs_xgb = model_xgb.predict(dtest)\n",
    "y_test_preds_xgb = (y_test_probs_xgb >= best_thresh_xgb).astype(int)\n",
    "\n",
    "print(\"Test Set Classification Report (XGBoost):\")\n",
    "print(classification_report(y_test, y_test_preds_xgb))\n",
    "print(f\"Test Set ROC-AUC Score: {roc_auc_score(y_test, y_test_probs_xgb):.4f}\")"
   ]
  },
  {
   "cell_type": "markdown",
   "id": "7ddd4728",
   "metadata": {},
   "source": [
    "## **Choosing Our Top Models Based on Results**"
   ]
  },
  {
   "cell_type": "markdown",
   "id": "7eb75921",
   "metadata": {},
   "source": [
    "| Model                     | Precision (1) | Recall (1) | F1-score (1) | ROC-AUC | Notes                                  |\n",
    "| ------------------------- | ------------- | ---------- | ------------ | ------- | -------------------------------------- |\n",
    "| **LSTM (tuned)**          | 0.55          | 0.85       | 0.67         | 0.7921  | Good recall, moderate precision        |\n",
    "| **GRU (tuned)**           | 0.56          | 0.83       | 0.67         | 0.7956  | Similar to LSTM, slightly better AUC   |\n",
    "| **BiLSTM (tuned)**        | 0.55          | 0.85       | 0.67         | 0.7923  | Similar to LSTM and GRU                |\n",
    "| **Stacked LSTM (tuned)**  | 0.55          | 0.84       | 0.66         | 0.7916  | Slightly lower F1                      |\n",
    "| **CNN+LSTM (tuned)**      | 0.56          | 0.85       | 0.67         | 0.7981  | Slightly better AUC                    |\n",
    "| **Transformer (tuned)**   | 0.57          | 0.84       | 0.68         | 0.8042  | Best deep learning ROC-AUC             |\n",
    "| **Random Forest (tuned)** | 0.67          | 0.71       | 0.69         | 0.8427  | Much better precision, balanced recall |\n",
    "| **XGBoost (tuned)**       | 0.65          | 0.75       | 0.70         | 0.8569  | Best F1, best ROC-AUC                  |\n"
   ]
  },
  {
   "cell_type": "code",
   "execution_count": 77,
   "id": "041a9c30",
   "metadata": {},
   "outputs": [
    {
     "data": {
      "image/png": "[encoded data removed]",
      "text/plain": [
       "<Figure size 1000x700 with 1 Axes>"
      ]
     },
     "metadata": {},
     "output_type": "display_data"
    }
   ],
   "source": [
    "plt.figure(figsize=(10, 7))\n",
    "\n",
    "models = {\n",
    "    'LSTM': y_test_probs_lstm,\n",
    "    'GRU': y_test_probs_gru,\n",
    "    'BiLSTM': y_test_probs_bi_lstm,\n",
    "    'Stacked LSTM': y_test_probs_stacked_lstm,\n",
    "    'CNN+LSTM': y_test_probs_cnn_lstm,\n",
    "    'Transformer': y_test_probs_transformer,\n",
    "    # 'Random Forest': y_test_probs_rf,\n",
    "    # 'XGBoost': y_test_probs_xgb\n",
    "}\n",
    "\n",
    "for name, probs in models.items():\n",
    "    fpr, tpr, _ = roc_curve(y_test, probs)\n",
    "    roc_auc = auc(fpr, tpr)\n",
    "    plt.plot(fpr, tpr, label=f'{name} (AUC = {roc_auc:.2f})')\n",
    "\n",
    "plt.plot([0, 1], [0, 1], 'k--', lw=1)\n",
    "plt.xlabel('False Positive Rate')\n",
    "plt.ylabel('True Positive Rate')\n",
    "plt.title('ROC Curves by Model')\n",
    "plt.legend(loc='lower right')\n",
    "plt.grid()\n",
    "plt.tight_layout()\n",
    "plt.savefig('roc_curves.png')\n",
    "plt.show()\n"
   ]
  },
  {
   "cell_type": "markdown",
   "id": "95f82361",
   "metadata": {},
   "source": [
    "**From these results, our top 3 models are:**\n",
    "1. XGBoost\n",
    "2. Transformer\n",
    "3. CNN + LSTM -> Best time series"
   ]
  },
  {
   "cell_type": "markdown",
   "id": "ab00d92d",
   "metadata": {},
   "source": [
    "______"
   ]
  },
  {
   "cell_type": "markdown",
   "id": "c8706157",
   "metadata": {},
   "source": [
    "# ***MACHINE LEARNING PART 2***"
   ]
  },
  {
   "cell_type": "markdown",
   "id": "656e5b66",
   "metadata": {},
   "source": [
    "## **Forecasting Tool - Using the CNN + LSTM Model**"
   ]
  },
  {
   "cell_type": "markdown",
   "id": "5f670afe",
   "metadata": {},
   "source": [
    "**Note:** Tried stacking the models chosen above but the results of that were actually lower than the base models, so we scratched that idea. So instead, we will build our foreacasting tool using our CNN + LSTM model. 3 things we will do with analysis: \n",
    "- Analyze Important Days in the 21-day Window\n",
    "- Analyze Feature Importance\n",
    "- Build a Forecasting Tool (Prediction + Explanation)"
   ]
  },
  {
   "cell_type": "markdown",
   "id": "8ebd8e99",
   "metadata": {},
   "source": [
    "**Analyze Important Days in the 21-day Window**"
   ]
  },
  {
   "cell_type": "code",
   "execution_count": 12,
   "id": "d3beab27",
   "metadata": {},
   "outputs": [
    {
     "data": {
      "image/png": "[encoded data removed]",
      "text/plain": [
       "<Figure size 1200x600 with 2 Axes>"
      ]
     },
     "metadata": {},
     "output_type": "display_data"
    }
   ],
   "source": [
    "def integrated_gradients(inputs, model, target_class_idx=0, baseline=None, steps=50):\n",
    "    if baseline is None:\n",
    "        baseline = np.zeros_like(inputs)\n",
    "    \n",
    "    # Scale inputs and compute gradients\n",
    "    interpolated_inputs = [baseline + (float(i)/steps)*(inputs - baseline) for i in range(steps+1)]\n",
    "    interpolated_inputs = tf.convert_to_tensor(np.array(interpolated_inputs), dtype=tf.float32)  # (steps+1, timesteps, features)\n",
    "    \n",
    "    with tf.GradientTape() as tape:\n",
    "        tape.watch(interpolated_inputs)\n",
    "        preds = model(interpolated_inputs)  # shape (steps+1, 1)\n",
    "        # Select the output for the target class - for binary sigmoid output, just use preds directly\n",
    "        outputs = preds[:, 0]  \n",
    "    \n",
    "    grads = tape.gradient(outputs, interpolated_inputs)  # shape (steps+1, timesteps, features)\n",
    "    \n",
    "    avg_grads = tf.reduce_mean(grads[:-1] + grads[1:], axis=0) / 2.0  # trapezoidal approx\n",
    "    integrated_grads = (inputs - baseline) * avg_grads.numpy()  # element-wise product\n",
    "    \n",
    "    return integrated_grads  # shape (timesteps, features)\n",
    "\n",
    "# Example usage: compute IG for one sample from validation set\n",
    "sample_idx = 0\n",
    "sample_input = X_val[sample_idx]\n",
    "\n",
    "ig_attributions = integrated_gradients(sample_input, model_cnn_lstm)\n",
    "\n",
    "# Visualize attribution heatmap for 21 days × 12 features\n",
    "plt.figure(figsize=(12,6))\n",
    "plt.imshow(ig_attributions.T, cmap='seismic', aspect='auto', interpolation='nearest')\n",
    "plt.colorbar(label='Integrated Gradients Attribution')\n",
    "plt.xlabel('Day in 21-day Window')\n",
    "plt.ylabel('Feature')\n",
    "plt.yticks(ticks=np.arange(len(feature_cols)), labels=feature_cols)\n",
    "plt.title('Integrated Gradients Attributions for Sample #{}'.format(sample_idx))\n",
    "plt.show()"
   ]
  },
  {
   "cell_type": "markdown",
   "id": "2aa2ce6c",
   "metadata": {},
   "source": [
    "These features are what our CNN+LSTM model looks at and what features and what days most contribute to the model's final predictions. Around the ~15 day marks seems to be the indicator of an event for the model and the features it mostly depends on is the time of year and sometimes the temperature and day."
   ]
  },
  {
   "cell_type": "markdown",
   "id": "f3f6f7dc",
   "metadata": {},
   "source": [
    "**Analyze Feature Importance**"
   ]
  },
  {
   "cell_type": "code",
   "execution_count": 13,
   "id": "fff20b22",
   "metadata": {},
   "outputs": [
    {
     "data": {
      "image/png": "[encoded data removed]",
      "text/plain": [
       "<Figure size 640x480 with 1 Axes>"
      ]
     },
     "metadata": {},
     "output_type": "display_data"
    },
    {
     "data": {
      "image/png": "[encoded data removed]",
      "text/plain": [
       "<Figure size 640x480 with 1 Axes>"
      ]
     },
     "metadata": {},
     "output_type": "display_data"
    }
   ],
   "source": [
    "# Compute IG for multiple samples (e.g., 100 from validation)\n",
    "num_samples_to_explain = 100\n",
    "all_ig = np.array([integrated_gradients(X_val[i], model_cnn_lstm) for i in range(num_samples_to_explain)])  \n",
    "# shape (samples, timesteps, features)\n",
    "\n",
    "# Aggregate day importance: mean absolute attribution per day across features and samples\n",
    "day_importance = np.mean(np.abs(all_ig).sum(axis=2), axis=0)\n",
    "\n",
    "plt.bar(range(1, window_size+1), day_importance)\n",
    "plt.xlabel('Day in 21-day Window')\n",
    "plt.ylabel('Mean Absolute Integrated Gradients')\n",
    "plt.title('Day Importance in CNN+LSTM Prediction')\n",
    "plt.show()\n",
    "\n",
    "# Aggregate feature importance: mean absolute attribution per feature across days and samples\n",
    "feature_importance = np.mean(np.abs(all_ig).sum(axis=1), axis=0)\n",
    "\n",
    "plt.bar(feature_cols, feature_importance)\n",
    "plt.xticks(rotation=45)\n",
    "plt.title('Feature Importance in CNN+LSTM Prediction')\n",
    "plt.show()"
   ]
  },
  {
   "cell_type": "markdown",
   "id": "3998b27d",
   "metadata": {},
   "source": [
    "The CNN+LSTM model gets a signal of a potential fire around the ~15-20 day mark and the features that help it identify are mostly day (cos), year, and the lagged average wind speed. So essentially what our gradients chart showed."
   ]
  },
  {
   "cell_type": "markdown",
   "id": "34ca6b6a",
   "metadata": {},
   "source": [
    "**Build a Forecasting Tool (Prediction + Explanation)**"
   ]
  },
  {
   "cell_type": "markdown",
   "id": "8eca4c3d",
   "metadata": {},
   "source": [
    "**Rough Model - Calculate prediction probability, add label, list features and days contributing to predictions**"
   ]
  },
  {
   "cell_type": "code",
   "execution_count": 14,
   "id": "c47b2498",
   "metadata": {},
   "outputs": [],
   "source": [
    "def forecasting_tool(input_sequence, model, feature_names, baseline=None, steps=50, threshold=0.45):\n",
    "    if baseline is None:\n",
    "        baseline = np.zeros_like(input_sequence)\n",
    "\n",
    "    # Predict probability\n",
    "    input_batch = np.expand_dims(input_sequence, axis=0)  # add batch dim\n",
    "    pred_prob = model.predict(input_batch)[0,0]\n",
    "\n",
    "    # Calculate Integrated Gradients\n",
    "    ig_attributions = integrated_gradients(input_sequence, model, baseline=baseline, steps=steps)\n",
    "\n",
    "    # Aggregate day importance (sum abs over features)\n",
    "    day_importance = np.sum(np.abs(ig_attributions), axis=1)\n",
    "    top_days = np.argsort(day_importance)[-3:][::-1]  # top 3 days (most important)\n",
    "\n",
    "    # Aggregate feature importance (sum abs over days)\n",
    "    feature_importance = np.sum(np.abs(ig_attributions), axis=0)\n",
    "    top_features_idx = np.argsort(feature_importance)[-3:][::-1]\n",
    "    top_features = [feature_names[i] for i in top_features_idx]\n",
    "\n",
    "    # Binary prediction\n",
    "    pred_label = int(pred_prob >= threshold)\n",
    "\n",
    "    return {\n",
    "        'prediction_prob': pred_prob,\n",
    "        'prediction_label': pred_label,\n",
    "        'integrated_gradients': ig_attributions,\n",
    "        'top_days': top_days,\n",
    "        'top_features': top_features}"
   ]
  },
  {
   "cell_type": "markdown",
   "id": "5bd6720e",
   "metadata": {},
   "source": [
    "**Rough testing forecast model with a set 21 days (not random yet)**"
   ]
  },
  {
   "cell_type": "code",
   "execution_count": 15,
   "id": "7b489b86",
   "metadata": {},
   "outputs": [
    {
     "name": "stdout",
     "output_type": "stream",
     "text": [
      "Shape of last 21 days features: (21, 12)\n",
      "\u001b[1m1/1\u001b[0m \u001b[32m━━━━━━━━━━━━━━━━━━━━\u001b[0m\u001b[37m\u001b[0m \u001b[1m0s\u001b[0m 20ms/step\n",
      "Predicted Fire Probability: 0.140\n",
      "Prediction Label (threshold=0.45): 0\n",
      "Top 3 Important Days in window: [16 18 17]\n",
      "Top 3 Important Features: ['DAY_COS', 'YEAR', 'SEASON_COS']\n"
     ]
    },
    {
     "data": {
      "image/png": "[encoded data removed]",
      "text/plain": [
       "<Figure size 1000x500 with 2 Axes>"
      ]
     },
     "metadata": {},
     "output_type": "display_data"
    }
   ],
   "source": [
    "# Get the last 21 days of features\n",
    "last_21_days_features = df[feature_cols].iloc[-21:].values  # shape (21, n_features)\n",
    "\n",
    "print(\"Shape of last 21 days features:\", last_21_days_features.shape)\n",
    "\n",
    "result = forecasting_tool(last_21_days_features, model_cnn_lstm, feature_cols)\n",
    "\n",
    "print(f\"Predicted Fire Probability: {result['prediction_prob']:.3f}\")\n",
    "print(f\"Prediction Label (threshold=0.45): {result['prediction_label']}\")\n",
    "print(f\"Top 3 Important Days in window: {result['top_days'] + 1}\")  # +1 for human-readable days\n",
    "print(f\"Top 3 Important Features: {result['top_features']}\")\n",
    "\n",
    "plt.figure(figsize=(10,5))\n",
    "plt.imshow(result['integrated_gradients'].T, cmap='seismic', aspect='auto')\n",
    "plt.colorbar(label='Integrated Gradients Attribution')\n",
    "plt.xlabel('Day in 21-day Window')\n",
    "plt.ylabel('Feature')\n",
    "plt.yticks(ticks=np.arange(len(feature_cols)), labels=feature_cols)\n",
    "plt.title('Integrated Gradients Attribution for Input Sequence')\n",
    "plt.show()\n"
   ]
  },
  {
   "cell_type": "markdown",
   "id": "d15784e7",
   "metadata": {},
   "source": [
    "**Creating sliding window function of 21 day periods to help test our model on random days**"
   ]
  },
  {
   "cell_type": "code",
   "execution_count": 16,
   "id": "1e91f07d",
   "metadata": {},
   "outputs": [],
   "source": [
    "def sliding_window_forecast(df, feature_cols, model, window_size=21, threshold=0.5):\n",
    "    # Slide a window over the data, predict fire risk for each day after the first window.\n",
    "    features = df[feature_cols].values\n",
    "    total_days = len(features)\n",
    "    results = []\n",
    "    # Slide window from day 0 to day total_days - window_size\n",
    "    for day in range(window_size, total_days):\n",
    "        window_features = features[day - window_size: day]  # shape (21, n_features)\n",
    "        window_features = np.expand_dims(window_features, axis=0)  # model expects batch dim\n",
    "        fire_prob = model.predict(window_features, verbose=0)[0][0]\n",
    "        fire_pred = int(fire_prob >= threshold)\n",
    "        results.append({\n",
    "            'day_index': day,\n",
    "            'fire_prob': fire_prob,\n",
    "            'fire_pred': fire_pred\n",
    "        })\n",
    "    return pd.DataFrame(results)"
   ]
  },
  {
   "cell_type": "markdown",
   "id": "2e927fb6",
   "metadata": {},
   "source": [
    "**Extremely rough look on what model looks like - takes a while to load (~6 minutes)**"
   ]
  },
  {
   "cell_type": "code",
   "execution_count": 205,
   "id": "86a74c5f",
   "metadata": {},
   "outputs": [
    {
     "name": "stdout",
     "output_type": "stream",
     "text": [
      "   day_index  fire_prob  fire_pred\n",
      "0         21   0.106730          0\n",
      "1         22   0.104867          0\n",
      "2         23   0.103966          0\n",
      "3         24   0.103553          0\n",
      "4         25   0.103363          0\n"
     ]
    }
   ],
   "source": [
    "# df_forecast = sliding_window_forecast(df, feature_cols, model_cnn_lstm, window_size=21, threshold=best_thresh_cnn_lstm)\n",
    "# print(df_forecast.head())"
   ]
  },
  {
   "cell_type": "markdown",
   "id": "0e9b7972",
   "metadata": {},
   "source": [
    "## **FINAL FORECASTING TOOL MODEL**"
   ]
  },
  {
   "cell_type": "code",
   "execution_count": 11,
   "id": "e1a7a5b7",
   "metadata": {
    "scrolled": true
   },
   "outputs": [
    {
     "name": "stdout",
     "output_type": "stream",
     "text": [
      "\u001b[1m1/1\u001b[0m \u001b[32m━━━━━━━━━━━━━━━━━━━━\u001b[0m\u001b[37m\u001b[0m \u001b[1m0s\u001b[0m 12ms/step\n",
      "\u001b[1m1/1\u001b[0m \u001b[32m━━━━━━━━━━━━━━━━━━━━\u001b[0m\u001b[37m\u001b[0m \u001b[1m0s\u001b[0m 11ms/step\n",
      "\u001b[1m1/1\u001b[0m \u001b[32m━━━━━━━━━━━━━━━━━━━━\u001b[0m\u001b[37m\u001b[0m \u001b[1m0s\u001b[0m 8ms/step\n",
      "\u001b[1m1/1\u001b[0m \u001b[32m━━━━━━━━━━━━━━━━━━━━\u001b[0m\u001b[37m\u001b[0m \u001b[1m0s\u001b[0m 8ms/step\n",
      "\u001b[1m1/1\u001b[0m \u001b[32m━━━━━━━━━━━━━━━━━━━━\u001b[0m\u001b[37m\u001b[0m \u001b[1m0s\u001b[0m 8ms/step\n",
      "\u001b[1m1/1\u001b[0m \u001b[32m━━━━━━━━━━━━━━━━━━━━\u001b[0m\u001b[37m\u001b[0m \u001b[1m0s\u001b[0m 8ms/step\n",
      "\u001b[1m1/1\u001b[0m \u001b[32m━━━━━━━━━━━━━━━━━━━━\u001b[0m\u001b[37m\u001b[0m \u001b[1m0s\u001b[0m 8ms/step\n",
      "\u001b[1m1/1\u001b[0m \u001b[32m━━━━━━━━━━━━━━━━━━━━\u001b[0m\u001b[37m\u001b[0m \u001b[1m0s\u001b[0m 8ms/step\n",
      "\u001b[1m1/1\u001b[0m \u001b[32m━━━━━━━━━━━━━━━━━━━━\u001b[0m\u001b[37m\u001b[0m \u001b[1m0s\u001b[0m 7ms/step\n",
      "\u001b[1m1/1\u001b[0m \u001b[32m━━━━━━━━━━━━━━━━━━━━\u001b[0m\u001b[37m\u001b[0m \u001b[1m0s\u001b[0m 8ms/step\n"
     ]
    },
    {
     "data": {
      "text/html": [
       "<div>\n",
       "<style scoped>\n",
       "    .dataframe tbody tr th:only-of-type {\n",
       "        vertical-align: middle;\n",
       "    }\n",
       "\n",
       "    .dataframe tbody tr th {\n",
       "        vertical-align: top;\n",
       "    }\n",
       "\n",
       "    .dataframe thead th {\n",
       "        text-align: right;\n",
       "    }\n",
       "</style>\n",
       "<table border=\"1\" class=\"dataframe\">\n",
       "  <thead>\n",
       "    <tr style=\"text-align: right;\">\n",
       "      <th></th>\n",
       "      <th>start_index</th>\n",
       "      <th>day_index</th>\n",
       "      <th>fire_prob</th>\n",
       "      <th>fire_pred</th>\n",
       "      <th>true_label</th>\n",
       "      <th>correct</th>\n",
       "    </tr>\n",
       "  </thead>\n",
       "  <tbody>\n",
       "    <tr>\n",
       "      <th>0</th>\n",
       "      <td>13468</td>\n",
       "      <td>13489</td>\n",
       "      <td>0.373949</td>\n",
       "      <td>0</td>\n",
       "      <td>0</td>\n",
       "      <td>1</td>\n",
       "    </tr>\n",
       "    <tr>\n",
       "      <th>1</th>\n",
       "      <td>14595</td>\n",
       "      <td>14616</td>\n",
       "      <td>0.120597</td>\n",
       "      <td>0</td>\n",
       "      <td>0</td>\n",
       "      <td>1</td>\n",
       "    </tr>\n",
       "    <tr>\n",
       "      <th>2</th>\n",
       "      <td>3426</td>\n",
       "      <td>3447</td>\n",
       "      <td>0.605292</td>\n",
       "      <td>1</td>\n",
       "      <td>0</td>\n",
       "      <td>0</td>\n",
       "    </tr>\n",
       "    <tr>\n",
       "      <th>3</th>\n",
       "      <td>3858</td>\n",
       "      <td>3879</td>\n",
       "      <td>0.793221</td>\n",
       "      <td>1</td>\n",
       "      <td>1</td>\n",
       "      <td>1</td>\n",
       "    </tr>\n",
       "    <tr>\n",
       "      <th>4</th>\n",
       "      <td>3060</td>\n",
       "      <td>3081</td>\n",
       "      <td>0.627209</td>\n",
       "      <td>1</td>\n",
       "      <td>1</td>\n",
       "      <td>1</td>\n",
       "    </tr>\n",
       "    <tr>\n",
       "      <th>5</th>\n",
       "      <td>14242</td>\n",
       "      <td>14263</td>\n",
       "      <td>0.019738</td>\n",
       "      <td>0</td>\n",
       "      <td>0</td>\n",
       "      <td>1</td>\n",
       "    </tr>\n",
       "    <tr>\n",
       "      <th>6</th>\n",
       "      <td>77</td>\n",
       "      <td>98</td>\n",
       "      <td>0.205272</td>\n",
       "      <td>0</td>\n",
       "      <td>0</td>\n",
       "      <td>1</td>\n",
       "    </tr>\n",
       "    <tr>\n",
       "      <th>7</th>\n",
       "      <td>591</td>\n",
       "      <td>612</td>\n",
       "      <td>0.674243</td>\n",
       "      <td>1</td>\n",
       "      <td>0</td>\n",
       "      <td>0</td>\n",
       "    </tr>\n",
       "    <tr>\n",
       "      <th>8</th>\n",
       "      <td>11700</td>\n",
       "      <td>11721</td>\n",
       "      <td>0.210941</td>\n",
       "      <td>0</td>\n",
       "      <td>0</td>\n",
       "      <td>1</td>\n",
       "    </tr>\n",
       "    <tr>\n",
       "      <th>9</th>\n",
       "      <td>2688</td>\n",
       "      <td>2709</td>\n",
       "      <td>0.553501</td>\n",
       "      <td>1</td>\n",
       "      <td>0</td>\n",
       "      <td>0</td>\n",
       "    </tr>\n",
       "  </tbody>\n",
       "</table>\n",
       "</div>"
      ],
      "text/plain": [
       "   start_index  day_index  fire_prob  fire_pred  true_label  correct\n",
       "0        13468      13489   0.373949          0           0        1\n",
       "1        14595      14616   0.120597          0           0        1\n",
       "2         3426       3447   0.605292          1           0        0\n",
       "3         3858       3879   0.793221          1           1        1\n",
       "4         3060       3081   0.627209          1           1        1\n",
       "5        14242      14263   0.019738          0           0        1\n",
       "6           77         98   0.205272          0           0        1\n",
       "7          591        612   0.674243          1           0        0\n",
       "8        11700      11721   0.210941          0           0        1\n",
       "9         2688       2709   0.553501          1           0        0"
      ]
     },
     "execution_count": 11,
     "metadata": {},
     "output_type": "execute_result"
    }
   ],
   "source": [
    "# Randomly sample N starting points\n",
    "N = 10  # or however many you want\n",
    "max_start = len(df) - window_size - 1\n",
    "random_starts = random.sample(range(max_start), N)\n",
    "\n",
    "random_preds = []\n",
    "\n",
    "for start in random_starts:\n",
    "    seq = df[feature_cols].iloc[start : start + window_size].values\n",
    "    seq = seq.reshape(1, window_size, -1)\n",
    "\n",
    "    prob = model_cnn_lstm.predict(seq).flatten()[0]\n",
    "    pred = int(prob >= best_thresh_cnn_lstm)\n",
    "    \n",
    "    true_label = df['FIRE_START_DAY'].iloc[start + window_size]\n",
    "    is_correct = int(pred == true_label)\n",
    "\n",
    "    random_preds.append({\n",
    "        'start_index': start,\n",
    "        'day_index': start + window_size,\n",
    "        'fire_prob': prob,\n",
    "        'fire_pred': pred,\n",
    "        'true_label': true_label,\n",
    "        'correct': is_correct\n",
    "    })\n",
    "\n",
    "pd.DataFrame(random_preds)"
   ]
  },
  {
   "cell_type": "markdown",
   "id": "c8bcdab1",
   "metadata": {},
   "source": [
    "## **YAy**"
   ]
  }
 ],
 "metadata": {
  "kernelspec": {
   "display_name": "Python 3 (ipykernel)",
   "language": "python",
   "name": "python3"
  },
  "language_info": {
   "codemirror_mode": {
    "name": "ipython",
    "version": 3
   },
   "file_extension": ".py",
   "mimetype": "text/x-python",
   "name": "python",
   "nbconvert_exporter": "python",
   "pygments_lexer": "ipython3",
   "version": "3.11.4"
  }
 },
 "nbformat": 4,
 "nbformat_minor": 5
}
